{
  "cells": [
    {
      "cell_type": "markdown",
      "metadata": {
        "id": "view-in-github",
        "colab_type": "text"
      },
      "source": [
        "<a href=\"https://colab.research.google.com/github/gyaneshhere/LLM-Security-and-Observability/blob/main/monitoring_and_evaluating_agents_notebook.ipynb\" target=\"_parent\"><img src=\"https://colab.research.google.com/assets/colab-badge.svg\" alt=\"Open In Colab\"/></a>"
      ]
    },
    {
      "cell_type": "markdown",
      "metadata": {
        "id": "kD6CtDpF3nmy"
      },
      "source": [
        "# Bonus Unit 1: Observability and Evaluation of Agents\n",
        "\n",
        "In this tutorial, we will learn how to **monitor the internal steps (traces) of our AI agent** and **evaluate its performance** using open-source observability tools.\n",
        "\n",
        "The ability to observe and evaluate an agent’s behavior is essential for:\n",
        "- Debugging issues when tasks fail or produce suboptimal results\n",
        "- Monitoring costs and performance in real-time\n",
        "- Improving reliability and safety through continuous feedback\n",
        "\n",
        "This notebook is part of the [Hugging Face Agents Course](https://www.hf.co/learn/agents-course/unit1/introduction)."
      ]
    },
    {
      "cell_type": "markdown",
      "metadata": {
        "id": "tIx2YOuI3nm3"
      },
      "source": [
        "## Exercise Prerequisites 🏗️\n",
        "\n",
        "Before running this notebook, please be sure you have:\n",
        "\n",
        "🔲 📚  **Studied** [Introduction to Agents](https://huggingface.co/learn/agents-course/unit1/introduction)\n",
        "\n",
        "🔲 📚  **Studied** [The smolagents framework](https://huggingface.co/learn/agents-course/unit2/smolagents/introduction)"
      ]
    },
    {
      "cell_type": "markdown",
      "metadata": {
        "id": "q0BQf2m33nm3"
      },
      "source": [
        "## Step 0: Install the Required Libraries\n",
        "\n",
        "We will need a few libraries that allow us to run, monitor, and evaluate our agents:"
      ]
    },
    {
      "cell_type": "code",
      "execution_count": 1,
      "metadata": {
        "id": "VaSzp-fz3nm4",
        "outputId": "5bf45619-a17c-4f54-b27b-0bfdc976f623",
        "colab": {
          "base_uri": "https://localhost:8080/"
        }
      },
      "outputs": [
        {
          "output_type": "stream",
          "name": "stdout",
          "text": [
            "Collecting smolagents[telemetry]\n",
            "  Downloading smolagents-1.12.0-py3-none-any.whl.metadata (14 kB)\n",
            "Requirement already satisfied: huggingface-hub>=0.28.0 in /usr/local/lib/python3.11/dist-packages (from smolagents[telemetry]) (0.29.3)\n",
            "Requirement already satisfied: requests>=2.32.3 in /usr/local/lib/python3.11/dist-packages (from smolagents[telemetry]) (2.32.3)\n",
            "Requirement already satisfied: rich>=13.9.4 in /usr/local/lib/python3.11/dist-packages (from smolagents[telemetry]) (13.9.4)\n",
            "Collecting pandas>=2.2.3 (from smolagents[telemetry])\n",
            "  Downloading pandas-2.2.3-cp311-cp311-manylinux_2_17_x86_64.manylinux2014_x86_64.whl.metadata (89 kB)\n",
            "\u001b[2K     \u001b[90m━━━━━━━━━━━━━━━━━━━━━━━━━━━━━━━━━━━━━━━━\u001b[0m \u001b[32m89.9/89.9 kB\u001b[0m \u001b[31m1.8 MB/s\u001b[0m eta \u001b[36m0:00:00\u001b[0m\n",
            "\u001b[?25hRequirement already satisfied: jinja2>=3.1.4 in /usr/local/lib/python3.11/dist-packages (from smolagents[telemetry]) (3.1.6)\n",
            "Requirement already satisfied: pillow>=11.0.0 in /usr/local/lib/python3.11/dist-packages (from smolagents[telemetry]) (11.1.0)\n",
            "Collecting markdownify>=0.14.1 (from smolagents[telemetry])\n",
            "  Downloading markdownify-1.1.0-py3-none-any.whl.metadata (9.1 kB)\n",
            "Collecting duckduckgo-search>=6.3.7 (from smolagents[telemetry])\n",
            "  Downloading duckduckgo_search-7.5.3-py3-none-any.whl.metadata (17 kB)\n",
            "Collecting python-dotenv (from smolagents[telemetry])\n",
            "  Downloading python_dotenv-1.1.0-py3-none-any.whl.metadata (24 kB)\n",
            "Collecting arize-phoenix (from smolagents[telemetry])\n",
            "  Downloading arize_phoenix-8.19.0-py3-none-any.whl.metadata (21 kB)\n",
            "Requirement already satisfied: opentelemetry-sdk in /usr/local/lib/python3.11/dist-packages (from smolagents[telemetry]) (1.31.1)\n",
            "Collecting opentelemetry-exporter-otlp (from smolagents[telemetry])\n",
            "  Downloading opentelemetry_exporter_otlp-1.31.1-py3-none-any.whl.metadata (2.5 kB)\n",
            "Collecting openinference-instrumentation-smolagents>=0.1.4 (from smolagents[telemetry])\n",
            "  Downloading openinference_instrumentation_smolagents-0.1.8-py3-none-any.whl.metadata (4.5 kB)\n",
            "Requirement already satisfied: click>=8.1.8 in /usr/local/lib/python3.11/dist-packages (from duckduckgo-search>=6.3.7->smolagents[telemetry]) (8.1.8)\n",
            "Collecting primp>=0.14.0 (from duckduckgo-search>=6.3.7->smolagents[telemetry])\n",
            "  Downloading primp-0.14.0-cp38-abi3-manylinux_2_17_x86_64.manylinux2014_x86_64.whl.metadata (13 kB)\n",
            "Requirement already satisfied: lxml>=5.3.0 in /usr/local/lib/python3.11/dist-packages (from duckduckgo-search>=6.3.7->smolagents[telemetry]) (5.3.1)\n",
            "Requirement already satisfied: filelock in /usr/local/lib/python3.11/dist-packages (from huggingface-hub>=0.28.0->smolagents[telemetry]) (3.18.0)\n",
            "Requirement already satisfied: fsspec>=2023.5.0 in /usr/local/lib/python3.11/dist-packages (from huggingface-hub>=0.28.0->smolagents[telemetry]) (2025.3.0)\n",
            "Requirement already satisfied: packaging>=20.9 in /usr/local/lib/python3.11/dist-packages (from huggingface-hub>=0.28.0->smolagents[telemetry]) (24.2)\n",
            "Requirement already satisfied: pyyaml>=5.1 in /usr/local/lib/python3.11/dist-packages (from huggingface-hub>=0.28.0->smolagents[telemetry]) (6.0.2)\n",
            "Requirement already satisfied: tqdm>=4.42.1 in /usr/local/lib/python3.11/dist-packages (from huggingface-hub>=0.28.0->smolagents[telemetry]) (4.67.1)\n",
            "Requirement already satisfied: typing-extensions>=3.7.4.3 in /usr/local/lib/python3.11/dist-packages (from huggingface-hub>=0.28.0->smolagents[telemetry]) (4.12.2)\n",
            "Requirement already satisfied: MarkupSafe>=2.0 in /usr/local/lib/python3.11/dist-packages (from jinja2>=3.1.4->smolagents[telemetry]) (3.0.2)\n",
            "Requirement already satisfied: beautifulsoup4<5,>=4.9 in /usr/local/lib/python3.11/dist-packages (from markdownify>=0.14.1->smolagents[telemetry]) (4.13.3)\n",
            "Requirement already satisfied: six<2,>=1.15 in /usr/local/lib/python3.11/dist-packages (from markdownify>=0.14.1->smolagents[telemetry]) (1.17.0)\n",
            "Collecting openinference-instrumentation>=0.1.20 (from openinference-instrumentation-smolagents>=0.1.4->smolagents[telemetry])\n",
            "  Downloading openinference_instrumentation-0.1.25-py3-none-any.whl.metadata (4.8 kB)\n",
            "Collecting openinference-semantic-conventions (from openinference-instrumentation-smolagents>=0.1.4->smolagents[telemetry])\n",
            "  Downloading openinference_semantic_conventions-0.1.15-py3-none-any.whl.metadata (1.2 kB)\n",
            "Requirement already satisfied: opentelemetry-api in /usr/local/lib/python3.11/dist-packages (from openinference-instrumentation-smolagents>=0.1.4->smolagents[telemetry]) (1.31.1)\n",
            "Collecting opentelemetry-instrumentation (from openinference-instrumentation-smolagents>=0.1.4->smolagents[telemetry])\n",
            "  Downloading opentelemetry_instrumentation-0.52b1-py3-none-any.whl.metadata (6.8 kB)\n",
            "Requirement already satisfied: opentelemetry-semantic-conventions in /usr/local/lib/python3.11/dist-packages (from openinference-instrumentation-smolagents>=0.1.4->smolagents[telemetry]) (0.52b1)\n",
            "Requirement already satisfied: wrapt in /usr/local/lib/python3.11/dist-packages (from openinference-instrumentation-smolagents>=0.1.4->smolagents[telemetry]) (1.17.2)\n",
            "Requirement already satisfied: numpy>=1.23.2 in /usr/local/lib/python3.11/dist-packages (from pandas>=2.2.3->smolagents[telemetry]) (2.0.2)\n",
            "Requirement already satisfied: python-dateutil>=2.8.2 in /usr/local/lib/python3.11/dist-packages (from pandas>=2.2.3->smolagents[telemetry]) (2.8.2)\n",
            "Requirement already satisfied: pytz>=2020.1 in /usr/local/lib/python3.11/dist-packages (from pandas>=2.2.3->smolagents[telemetry]) (2025.1)\n",
            "Requirement already satisfied: tzdata>=2022.7 in /usr/local/lib/python3.11/dist-packages (from pandas>=2.2.3->smolagents[telemetry]) (2025.1)\n",
            "Requirement already satisfied: charset-normalizer<4,>=2 in /usr/local/lib/python3.11/dist-packages (from requests>=2.32.3->smolagents[telemetry]) (3.4.1)\n",
            "Requirement already satisfied: idna<4,>=2.5 in /usr/local/lib/python3.11/dist-packages (from requests>=2.32.3->smolagents[telemetry]) (3.10)\n",
            "Requirement already satisfied: urllib3<3,>=1.21.1 in /usr/local/lib/python3.11/dist-packages (from requests>=2.32.3->smolagents[telemetry]) (2.3.0)\n",
            "Requirement already satisfied: certifi>=2017.4.17 in /usr/local/lib/python3.11/dist-packages (from requests>=2.32.3->smolagents[telemetry]) (2025.1.31)\n",
            "Requirement already satisfied: markdown-it-py>=2.2.0 in /usr/local/lib/python3.11/dist-packages (from rich>=13.9.4->smolagents[telemetry]) (3.0.0)\n",
            "Requirement already satisfied: pygments<3.0.0,>=2.13.0 in /usr/local/lib/python3.11/dist-packages (from rich>=13.9.4->smolagents[telemetry]) (2.18.0)\n",
            "Collecting aioitertools (from arize-phoenix->smolagents[telemetry])\n",
            "  Downloading aioitertools-0.12.0-py3-none-any.whl.metadata (3.8 kB)\n",
            "Collecting aiosqlite (from arize-phoenix->smolagents[telemetry])\n",
            "  Downloading aiosqlite-0.21.0-py3-none-any.whl.metadata (4.3 kB)\n",
            "Collecting alembic<2,>=1.3.0 (from arize-phoenix->smolagents[telemetry])\n",
            "  Downloading alembic-1.15.1-py3-none-any.whl.metadata (7.2 kB)\n",
            "Collecting arize-phoenix-client (from arize-phoenix->smolagents[telemetry])\n",
            "  Downloading arize_phoenix_client-1.1.0-py3-none-any.whl.metadata (3.3 kB)\n",
            "Collecting arize-phoenix-evals>=0.13.1 (from arize-phoenix->smolagents[telemetry])\n",
            "  Downloading arize_phoenix_evals-0.20.4-py3-none-any.whl.metadata (4.4 kB)\n",
            "Collecting arize-phoenix-otel>=0.5.1 (from arize-phoenix->smolagents[telemetry])\n",
            "  Downloading arize_phoenix_otel-0.9.0-py3-none-any.whl.metadata (6.7 kB)\n",
            "Collecting authlib (from arize-phoenix->smolagents[telemetry])\n",
            "  Downloading authlib-1.5.1-py2.py3-none-any.whl.metadata (3.9 kB)\n",
            "Requirement already satisfied: cachetools in /usr/local/lib/python3.11/dist-packages (from arize-phoenix->smolagents[telemetry]) (5.5.2)\n",
            "Collecting email-validator (from arize-phoenix->smolagents[telemetry])\n",
            "  Downloading email_validator-2.2.0-py3-none-any.whl.metadata (25 kB)\n",
            "Collecting fastapi (from arize-phoenix->smolagents[telemetry])\n",
            "  Downloading fastapi-0.115.12-py3-none-any.whl.metadata (27 kB)\n",
            "Requirement already satisfied: grpc-interceptor in /usr/local/lib/python3.11/dist-packages (from arize-phoenix->smolagents[telemetry]) (0.15.4)\n",
            "Requirement already satisfied: grpcio in /usr/local/lib/python3.11/dist-packages (from arize-phoenix->smolagents[telemetry]) (1.71.0)\n",
            "Requirement already satisfied: httpx in /usr/local/lib/python3.11/dist-packages (from arize-phoenix->smolagents[telemetry]) (0.28.1)\n",
            "Collecting opentelemetry-proto>=1.12.0 (from arize-phoenix->smolagents[telemetry])\n",
            "  Downloading opentelemetry_proto-1.31.1-py3-none-any.whl.metadata (2.4 kB)\n",
            "Requirement already satisfied: protobuf<6.0,>=3.20.2 in /usr/local/lib/python3.11/dist-packages (from arize-phoenix->smolagents[telemetry]) (5.29.4)\n",
            "Requirement already satisfied: psutil in /usr/local/lib/python3.11/dist-packages (from arize-phoenix->smolagents[telemetry]) (5.9.5)\n",
            "Requirement already satisfied: pyarrow in /usr/local/lib/python3.11/dist-packages (from arize-phoenix->smolagents[telemetry]) (18.1.0)\n",
            "Requirement already satisfied: pydantic>=2.1.0 in /usr/local/lib/python3.11/dist-packages (from arize-phoenix->smolagents[telemetry]) (2.10.6)\n",
            "Collecting python-multipart (from arize-phoenix->smolagents[telemetry])\n",
            "  Downloading python_multipart-0.0.20-py3-none-any.whl.metadata (1.8 kB)\n",
            "Requirement already satisfied: scikit-learn in /usr/local/lib/python3.11/dist-packages (from arize-phoenix->smolagents[telemetry]) (1.6.1)\n",
            "Requirement already satisfied: scipy in /usr/local/lib/python3.11/dist-packages (from arize-phoenix->smolagents[telemetry]) (1.14.1)\n",
            "Requirement already satisfied: sqlalchemy<3,>=2.0.4 in /usr/local/lib/python3.11/dist-packages (from sqlalchemy[asyncio]<3,>=2.0.4->arize-phoenix->smolagents[telemetry]) (2.0.39)\n",
            "Collecting sqlean-py>=3.45.1 (from arize-phoenix->smolagents[telemetry])\n",
            "  Downloading sqlean.py-3.47.0-cp311-cp311-manylinux_2_17_x86_64.manylinux2014_x86_64.whl.metadata (4.4 kB)\n",
            "Collecting starlette (from arize-phoenix->smolagents[telemetry])\n",
            "  Downloading starlette-0.46.1-py3-none-any.whl.metadata (6.2 kB)\n",
            "Collecting strawberry-graphql>=0.262.0 (from arize-phoenix->smolagents[telemetry])\n",
            "  Downloading strawberry_graphql-0.262.5-py3-none-any.whl.metadata (7.7 kB)\n",
            "Collecting uvicorn (from arize-phoenix->smolagents[telemetry])\n",
            "  Downloading uvicorn-0.34.0-py3-none-any.whl.metadata (6.5 kB)\n",
            "Requirement already satisfied: websockets in /usr/local/lib/python3.11/dist-packages (from arize-phoenix->smolagents[telemetry]) (15.0.1)\n",
            "Collecting opentelemetry-exporter-otlp-proto-grpc==1.31.1 (from opentelemetry-exporter-otlp->smolagents[telemetry])\n",
            "  Downloading opentelemetry_exporter_otlp_proto_grpc-1.31.1-py3-none-any.whl.metadata (2.5 kB)\n",
            "Collecting opentelemetry-exporter-otlp-proto-http==1.31.1 (from opentelemetry-exporter-otlp->smolagents[telemetry])\n",
            "  Downloading opentelemetry_exporter_otlp_proto_http-1.31.1-py3-none-any.whl.metadata (2.4 kB)\n",
            "Requirement already satisfied: deprecated>=1.2.6 in /usr/local/lib/python3.11/dist-packages (from opentelemetry-exporter-otlp-proto-grpc==1.31.1->opentelemetry-exporter-otlp->smolagents[telemetry]) (1.2.18)\n",
            "Requirement already satisfied: googleapis-common-protos~=1.52 in /usr/local/lib/python3.11/dist-packages (from opentelemetry-exporter-otlp-proto-grpc==1.31.1->opentelemetry-exporter-otlp->smolagents[telemetry]) (1.69.2)\n",
            "Collecting opentelemetry-exporter-otlp-proto-common==1.31.1 (from opentelemetry-exporter-otlp-proto-grpc==1.31.1->opentelemetry-exporter-otlp->smolagents[telemetry])\n",
            "  Downloading opentelemetry_exporter_otlp_proto_common-1.31.1-py3-none-any.whl.metadata (1.9 kB)\n",
            "Requirement already satisfied: importlib-metadata<8.7.0,>=6.0 in /usr/local/lib/python3.11/dist-packages (from opentelemetry-api->openinference-instrumentation-smolagents>=0.1.4->smolagents[telemetry]) (8.6.1)\n",
            "Requirement already satisfied: Mako in /usr/lib/python3/dist-packages (from alembic<2,>=1.3.0->arize-phoenix->smolagents[telemetry]) (1.1.3)\n",
            "Requirement already satisfied: soupsieve>1.2 in /usr/local/lib/python3.11/dist-packages (from beautifulsoup4<5,>=4.9->markdownify>=0.14.1->smolagents[telemetry]) (2.6)\n",
            "Requirement already satisfied: mdurl~=0.1 in /usr/local/lib/python3.11/dist-packages (from markdown-it-py>=2.2.0->rich>=13.9.4->smolagents[telemetry]) (0.1.2)\n",
            "Requirement already satisfied: annotated-types>=0.6.0 in /usr/local/lib/python3.11/dist-packages (from pydantic>=2.1.0->arize-phoenix->smolagents[telemetry]) (0.7.0)\n",
            "Requirement already satisfied: pydantic-core==2.27.2 in /usr/local/lib/python3.11/dist-packages (from pydantic>=2.1.0->arize-phoenix->smolagents[telemetry]) (2.27.2)\n",
            "Requirement already satisfied: greenlet!=0.4.17 in /usr/local/lib/python3.11/dist-packages (from sqlalchemy<3,>=2.0.4->sqlalchemy[asyncio]<3,>=2.0.4->arize-phoenix->smolagents[telemetry]) (3.1.1)\n",
            "Collecting graphql-core<3.4.0,>=3.2.0 (from strawberry-graphql>=0.262.0->arize-phoenix->smolagents[telemetry])\n",
            "  Downloading graphql_core-3.2.6-py3-none-any.whl.metadata (11 kB)\n",
            "Requirement already satisfied: cryptography in /usr/local/lib/python3.11/dist-packages (from authlib->arize-phoenix->smolagents[telemetry]) (43.0.3)\n",
            "Collecting dnspython>=2.0.0 (from email-validator->arize-phoenix->smolagents[telemetry])\n",
            "  Downloading dnspython-2.7.0-py3-none-any.whl.metadata (5.8 kB)\n",
            "Requirement already satisfied: anyio<5,>=3.6.2 in /usr/local/lib/python3.11/dist-packages (from starlette->arize-phoenix->smolagents[telemetry]) (4.9.0)\n",
            "Requirement already satisfied: httpcore==1.* in /usr/local/lib/python3.11/dist-packages (from httpx->arize-phoenix->smolagents[telemetry]) (1.0.7)\n",
            "Requirement already satisfied: h11<0.15,>=0.13 in /usr/local/lib/python3.11/dist-packages (from httpcore==1.*->httpx->arize-phoenix->smolagents[telemetry]) (0.14.0)\n",
            "Requirement already satisfied: joblib>=1.2.0 in /usr/local/lib/python3.11/dist-packages (from scikit-learn->arize-phoenix->smolagents[telemetry]) (1.4.2)\n",
            "Requirement already satisfied: threadpoolctl>=3.1.0 in /usr/local/lib/python3.11/dist-packages (from scikit-learn->arize-phoenix->smolagents[telemetry]) (3.6.0)\n",
            "Requirement already satisfied: sniffio>=1.1 in /usr/local/lib/python3.11/dist-packages (from anyio<5,>=3.6.2->starlette->arize-phoenix->smolagents[telemetry]) (1.3.1)\n",
            "Requirement already satisfied: zipp>=3.20 in /usr/local/lib/python3.11/dist-packages (from importlib-metadata<8.7.0,>=6.0->opentelemetry-api->openinference-instrumentation-smolagents>=0.1.4->smolagents[telemetry]) (3.21.0)\n",
            "Requirement already satisfied: cffi>=1.12 in /usr/local/lib/python3.11/dist-packages (from cryptography->authlib->arize-phoenix->smolagents[telemetry]) (1.17.1)\n",
            "Requirement already satisfied: pycparser in /usr/local/lib/python3.11/dist-packages (from cffi>=1.12->cryptography->authlib->arize-phoenix->smolagents[telemetry]) (2.22)\n",
            "Downloading duckduckgo_search-7.5.3-py3-none-any.whl (20 kB)\n",
            "Downloading markdownify-1.1.0-py3-none-any.whl (13 kB)\n",
            "Downloading openinference_instrumentation_smolagents-0.1.8-py3-none-any.whl (12 kB)\n",
            "Downloading pandas-2.2.3-cp311-cp311-manylinux_2_17_x86_64.manylinux2014_x86_64.whl (13.1 MB)\n",
            "\u001b[2K   \u001b[90m━━━━━━━━━━━━━━━━━━━━━━━━━━━━━━━━━━━━━━━━\u001b[0m \u001b[32m13.1/13.1 MB\u001b[0m \u001b[31m70.8 MB/s\u001b[0m eta \u001b[36m0:00:00\u001b[0m\n",
            "\u001b[?25hDownloading arize_phoenix-8.19.0-py3-none-any.whl (3.8 MB)\n",
            "\u001b[2K   \u001b[90m━━━━━━━━━━━━━━━━━━━━━━━━━━━━━━━━━━━━━━━━\u001b[0m \u001b[32m3.8/3.8 MB\u001b[0m \u001b[31m54.3 MB/s\u001b[0m eta \u001b[36m0:00:00\u001b[0m\n",
            "\u001b[?25hDownloading opentelemetry_exporter_otlp-1.31.1-py3-none-any.whl (7.0 kB)\n",
            "Downloading opentelemetry_exporter_otlp_proto_grpc-1.31.1-py3-none-any.whl (18 kB)\n",
            "Downloading opentelemetry_exporter_otlp_proto_http-1.31.1-py3-none-any.whl (17 kB)\n",
            "Downloading opentelemetry_proto-1.31.1-py3-none-any.whl (55 kB)\n",
            "\u001b[2K   \u001b[90m━━━━━━━━━━━━━━━━━━━━━━━━━━━━━━━━━━━━━━━━\u001b[0m \u001b[32m55.9/55.9 kB\u001b[0m \u001b[31m3.2 MB/s\u001b[0m eta \u001b[36m0:00:00\u001b[0m\n",
            "\u001b[?25hDownloading opentelemetry_exporter_otlp_proto_common-1.31.1-py3-none-any.whl (18 kB)\n",
            "Downloading python_dotenv-1.1.0-py3-none-any.whl (20 kB)\n",
            "Downloading smolagents-1.12.0-py3-none-any.whl (105 kB)\n",
            "\u001b[2K   \u001b[90m━━━━━━━━━━━━━━━━━━━━━━━━━━━━━━━━━━━━━━━━\u001b[0m \u001b[32m105.3/105.3 kB\u001b[0m \u001b[31m7.6 MB/s\u001b[0m eta \u001b[36m0:00:00\u001b[0m\n",
            "\u001b[?25hDownloading alembic-1.15.1-py3-none-any.whl (231 kB)\n",
            "\u001b[2K   \u001b[90m━━━━━━━━━━━━━━━━━━━━━━━━━━━━━━━━━━━━━━━━\u001b[0m \u001b[32m231.8/231.8 kB\u001b[0m \u001b[31m14.5 MB/s\u001b[0m eta \u001b[36m0:00:00\u001b[0m\n",
            "\u001b[?25hDownloading arize_phoenix_evals-0.20.4-py3-none-any.whl (62 kB)\n",
            "\u001b[2K   \u001b[90m━━━━━━━━━━━━━━━━━━━━━━━━━━━━━━━━━━━━━━━━\u001b[0m \u001b[32m62.5/62.5 kB\u001b[0m \u001b[31m3.7 MB/s\u001b[0m eta \u001b[36m0:00:00\u001b[0m\n",
            "\u001b[?25hDownloading arize_phoenix_otel-0.9.0-py3-none-any.whl (12 kB)\n",
            "Downloading openinference_instrumentation-0.1.25-py3-none-any.whl (22 kB)\n",
            "Downloading openinference_semantic_conventions-0.1.15-py3-none-any.whl (9.2 kB)\n",
            "Downloading primp-0.14.0-cp38-abi3-manylinux_2_17_x86_64.manylinux2014_x86_64.whl (3.3 MB)\n",
            "\u001b[2K   \u001b[90m━━━━━━━━━━━━━━━━━━━━━━━━━━━━━━━━━━━━━━━━\u001b[0m \u001b[32m3.3/3.3 MB\u001b[0m \u001b[31m53.5 MB/s\u001b[0m eta \u001b[36m0:00:00\u001b[0m\n",
            "\u001b[?25hDownloading sqlean.py-3.47.0-cp311-cp311-manylinux_2_17_x86_64.manylinux2014_x86_64.whl (3.0 MB)\n",
            "\u001b[2K   \u001b[90m━━━━━━━━━━━━━━━━━━━━━━━━━━━━━━━━━━━━━━━━\u001b[0m \u001b[32m3.0/3.0 MB\u001b[0m \u001b[31m61.2 MB/s\u001b[0m eta \u001b[36m0:00:00\u001b[0m\n",
            "\u001b[?25hDownloading strawberry_graphql-0.262.5-py3-none-any.whl (296 kB)\n",
            "\u001b[2K   \u001b[90m━━━━━━━━━━━━━━━━━━━━━━━━━━━━━━━━━━━━━━━━\u001b[0m \u001b[32m296.0/296.0 kB\u001b[0m \u001b[31m19.4 MB/s\u001b[0m eta \u001b[36m0:00:00\u001b[0m\n",
            "\u001b[?25hDownloading aioitertools-0.12.0-py3-none-any.whl (24 kB)\n",
            "Downloading aiosqlite-0.21.0-py3-none-any.whl (15 kB)\n",
            "Downloading arize_phoenix_client-1.1.0-py3-none-any.whl (32 kB)\n",
            "Downloading authlib-1.5.1-py2.py3-none-any.whl (231 kB)\n",
            "\u001b[2K   \u001b[90m━━━━━━━━━━━━━━━━━━━━━━━━━━━━━━━━━━━━━━━━\u001b[0m \u001b[32m231.4/231.4 kB\u001b[0m \u001b[31m15.9 MB/s\u001b[0m eta \u001b[36m0:00:00\u001b[0m\n",
            "\u001b[?25hDownloading email_validator-2.2.0-py3-none-any.whl (33 kB)\n",
            "Downloading fastapi-0.115.12-py3-none-any.whl (95 kB)\n",
            "\u001b[2K   \u001b[90m━━━━━━━━━━━━━━━━━━━━━━━━━━━━━━━━━━━━━━━━\u001b[0m \u001b[32m95.2/95.2 kB\u001b[0m \u001b[31m6.5 MB/s\u001b[0m eta \u001b[36m0:00:00\u001b[0m\n",
            "\u001b[?25hDownloading starlette-0.46.1-py3-none-any.whl (71 kB)\n",
            "\u001b[2K   \u001b[90m━━━━━━━━━━━━━━━━━━━━━━━━━━━━━━━━━━━━━━━━\u001b[0m \u001b[32m72.0/72.0 kB\u001b[0m \u001b[31m4.6 MB/s\u001b[0m eta \u001b[36m0:00:00\u001b[0m\n",
            "\u001b[?25hDownloading opentelemetry_instrumentation-0.52b1-py3-none-any.whl (31 kB)\n",
            "Downloading python_multipart-0.0.20-py3-none-any.whl (24 kB)\n",
            "Downloading uvicorn-0.34.0-py3-none-any.whl (62 kB)\n",
            "\u001b[2K   \u001b[90m━━━━━━━━━━━━━━━━━━━━━━━━━━━━━━━━━━━━━━━━\u001b[0m \u001b[32m62.3/62.3 kB\u001b[0m \u001b[31m4.1 MB/s\u001b[0m eta \u001b[36m0:00:00\u001b[0m\n",
            "\u001b[?25hDownloading dnspython-2.7.0-py3-none-any.whl (313 kB)\n",
            "\u001b[2K   \u001b[90m━━━━━━━━━━━━━━━━━━━━━━━━━━━━━━━━━━━━━━━━\u001b[0m \u001b[32m313.6/313.6 kB\u001b[0m \u001b[31m19.9 MB/s\u001b[0m eta \u001b[36m0:00:00\u001b[0m\n",
            "\u001b[?25hDownloading graphql_core-3.2.6-py3-none-any.whl (203 kB)\n",
            "\u001b[2K   \u001b[90m━━━━━━━━━━━━━━━━━━━━━━━━━━━━━━━━━━━━━━━━\u001b[0m \u001b[32m203.4/203.4 kB\u001b[0m \u001b[31m12.9 MB/s\u001b[0m eta \u001b[36m0:00:00\u001b[0m\n",
            "\u001b[?25hInstalling collected packages: sqlean-py, uvicorn, python-multipart, python-dotenv, primp, opentelemetry-proto, openinference-semantic-conventions, graphql-core, dnspython, aiosqlite, aioitertools, strawberry-graphql, starlette, pandas, opentelemetry-exporter-otlp-proto-common, markdownify, email-validator, duckduckgo-search, alembic, smolagents, fastapi, authlib, arize-phoenix-evals, arize-phoenix-client, opentelemetry-instrumentation, opentelemetry-exporter-otlp-proto-http, opentelemetry-exporter-otlp-proto-grpc, openinference-instrumentation, opentelemetry-exporter-otlp, openinference-instrumentation-smolagents, arize-phoenix-otel, arize-phoenix\n",
            "  Attempting uninstall: pandas\n",
            "    Found existing installation: pandas 2.2.2\n",
            "    Uninstalling pandas-2.2.2:\n",
            "      Successfully uninstalled pandas-2.2.2\n",
            "\u001b[31mERROR: pip's dependency resolver does not currently take into account all the packages that are installed. This behaviour is the source of the following dependency conflicts.\n",
            "google-colab 1.0.0 requires pandas==2.2.2, but you have pandas 2.2.3 which is incompatible.\u001b[0m\u001b[31m\n",
            "\u001b[0mSuccessfully installed aioitertools-0.12.0 aiosqlite-0.21.0 alembic-1.15.1 arize-phoenix-8.19.0 arize-phoenix-client-1.1.0 arize-phoenix-evals-0.20.4 arize-phoenix-otel-0.9.0 authlib-1.5.1 dnspython-2.7.0 duckduckgo-search-7.5.3 email-validator-2.2.0 fastapi-0.115.12 graphql-core-3.2.6 markdownify-1.1.0 openinference-instrumentation-0.1.25 openinference-instrumentation-smolagents-0.1.8 openinference-semantic-conventions-0.1.15 opentelemetry-exporter-otlp-1.31.1 opentelemetry-exporter-otlp-proto-common-1.31.1 opentelemetry-exporter-otlp-proto-grpc-1.31.1 opentelemetry-exporter-otlp-proto-http-1.31.1 opentelemetry-instrumentation-0.52b1 opentelemetry-proto-1.31.1 pandas-2.2.3 primp-0.14.0 python-dotenv-1.1.0 python-multipart-0.0.20 smolagents-1.12.0 sqlean-py-3.47.0 starlette-0.46.1 strawberry-graphql-0.262.5 uvicorn-0.34.0\n",
            "Requirement already satisfied: opentelemetry-sdk in /usr/local/lib/python3.11/dist-packages (1.31.1)\n",
            "Requirement already satisfied: opentelemetry-exporter-otlp in /usr/local/lib/python3.11/dist-packages (1.31.1)\n",
            "Requirement already satisfied: openinference-instrumentation-smolagents in /usr/local/lib/python3.11/dist-packages (0.1.8)\n",
            "Requirement already satisfied: opentelemetry-api==1.31.1 in /usr/local/lib/python3.11/dist-packages (from opentelemetry-sdk) (1.31.1)\n",
            "Requirement already satisfied: opentelemetry-semantic-conventions==0.52b1 in /usr/local/lib/python3.11/dist-packages (from opentelemetry-sdk) (0.52b1)\n",
            "Requirement already satisfied: typing-extensions>=3.7.4 in /usr/local/lib/python3.11/dist-packages (from opentelemetry-sdk) (4.12.2)\n",
            "Requirement already satisfied: deprecated>=1.2.6 in /usr/local/lib/python3.11/dist-packages (from opentelemetry-api==1.31.1->opentelemetry-sdk) (1.2.18)\n",
            "Requirement already satisfied: importlib-metadata<8.7.0,>=6.0 in /usr/local/lib/python3.11/dist-packages (from opentelemetry-api==1.31.1->opentelemetry-sdk) (8.6.1)\n",
            "Requirement already satisfied: opentelemetry-exporter-otlp-proto-grpc==1.31.1 in /usr/local/lib/python3.11/dist-packages (from opentelemetry-exporter-otlp) (1.31.1)\n",
            "Requirement already satisfied: opentelemetry-exporter-otlp-proto-http==1.31.1 in /usr/local/lib/python3.11/dist-packages (from opentelemetry-exporter-otlp) (1.31.1)\n",
            "Requirement already satisfied: googleapis-common-protos~=1.52 in /usr/local/lib/python3.11/dist-packages (from opentelemetry-exporter-otlp-proto-grpc==1.31.1->opentelemetry-exporter-otlp) (1.69.2)\n",
            "Requirement already satisfied: grpcio<2.0.0,>=1.63.2 in /usr/local/lib/python3.11/dist-packages (from opentelemetry-exporter-otlp-proto-grpc==1.31.1->opentelemetry-exporter-otlp) (1.71.0)\n",
            "Requirement already satisfied: opentelemetry-exporter-otlp-proto-common==1.31.1 in /usr/local/lib/python3.11/dist-packages (from opentelemetry-exporter-otlp-proto-grpc==1.31.1->opentelemetry-exporter-otlp) (1.31.1)\n",
            "Requirement already satisfied: opentelemetry-proto==1.31.1 in /usr/local/lib/python3.11/dist-packages (from opentelemetry-exporter-otlp-proto-grpc==1.31.1->opentelemetry-exporter-otlp) (1.31.1)\n",
            "Requirement already satisfied: requests~=2.7 in /usr/local/lib/python3.11/dist-packages (from opentelemetry-exporter-otlp-proto-http==1.31.1->opentelemetry-exporter-otlp) (2.32.3)\n",
            "Requirement already satisfied: protobuf<6.0,>=5.0 in /usr/local/lib/python3.11/dist-packages (from opentelemetry-proto==1.31.1->opentelemetry-exporter-otlp-proto-grpc==1.31.1->opentelemetry-exporter-otlp) (5.29.4)\n",
            "Requirement already satisfied: openinference-instrumentation>=0.1.20 in /usr/local/lib/python3.11/dist-packages (from openinference-instrumentation-smolagents) (0.1.25)\n",
            "Requirement already satisfied: openinference-semantic-conventions in /usr/local/lib/python3.11/dist-packages (from openinference-instrumentation-smolagents) (0.1.15)\n",
            "Requirement already satisfied: opentelemetry-instrumentation in /usr/local/lib/python3.11/dist-packages (from openinference-instrumentation-smolagents) (0.52b1)\n",
            "Requirement already satisfied: wrapt in /usr/local/lib/python3.11/dist-packages (from openinference-instrumentation-smolagents) (1.17.2)\n",
            "Requirement already satisfied: packaging>=18.0 in /usr/local/lib/python3.11/dist-packages (from opentelemetry-instrumentation->openinference-instrumentation-smolagents) (24.2)\n",
            "Requirement already satisfied: zipp>=3.20 in /usr/local/lib/python3.11/dist-packages (from importlib-metadata<8.7.0,>=6.0->opentelemetry-api==1.31.1->opentelemetry-sdk) (3.21.0)\n",
            "Requirement already satisfied: charset-normalizer<4,>=2 in /usr/local/lib/python3.11/dist-packages (from requests~=2.7->opentelemetry-exporter-otlp-proto-http==1.31.1->opentelemetry-exporter-otlp) (3.4.1)\n",
            "Requirement already satisfied: idna<4,>=2.5 in /usr/local/lib/python3.11/dist-packages (from requests~=2.7->opentelemetry-exporter-otlp-proto-http==1.31.1->opentelemetry-exporter-otlp) (3.10)\n",
            "Requirement already satisfied: urllib3<3,>=1.21.1 in /usr/local/lib/python3.11/dist-packages (from requests~=2.7->opentelemetry-exporter-otlp-proto-http==1.31.1->opentelemetry-exporter-otlp) (2.3.0)\n",
            "Requirement already satisfied: certifi>=2017.4.17 in /usr/local/lib/python3.11/dist-packages (from requests~=2.7->opentelemetry-exporter-otlp-proto-http==1.31.1->opentelemetry-exporter-otlp) (2025.1.31)\n",
            "Collecting langfuse\n",
            "  Downloading langfuse-2.60.2-py3-none-any.whl.metadata (3.2 kB)\n",
            "Collecting datasets\n",
            "  Downloading datasets-3.4.1-py3-none-any.whl.metadata (19 kB)\n",
            "Collecting gradio\n",
            "  Downloading gradio-5.23.0-py3-none-any.whl.metadata (16 kB)\n",
            "Requirement already satisfied: smolagents[gradio] in /usr/local/lib/python3.11/dist-packages (1.12.0)\n",
            "Requirement already satisfied: anyio<5.0.0,>=4.4.0 in /usr/local/lib/python3.11/dist-packages (from langfuse) (4.9.0)\n",
            "Collecting backoff>=1.10.0 (from langfuse)\n",
            "  Downloading backoff-2.2.1-py3-none-any.whl.metadata (14 kB)\n",
            "Requirement already satisfied: httpx<1.0,>=0.15.4 in /usr/local/lib/python3.11/dist-packages (from langfuse) (0.28.1)\n",
            "Requirement already satisfied: idna<4.0,>=3.7 in /usr/local/lib/python3.11/dist-packages (from langfuse) (3.10)\n",
            "Requirement already satisfied: packaging<25.0,>=23.2 in /usr/local/lib/python3.11/dist-packages (from langfuse) (24.2)\n",
            "Requirement already satisfied: pydantic<3.0,>=1.10.7 in /usr/local/lib/python3.11/dist-packages (from langfuse) (2.10.6)\n",
            "Requirement already satisfied: requests<3,>=2 in /usr/local/lib/python3.11/dist-packages (from langfuse) (2.32.3)\n",
            "Requirement already satisfied: wrapt<2.0,>=1.14 in /usr/local/lib/python3.11/dist-packages (from langfuse) (1.17.2)\n",
            "Requirement already satisfied: filelock in /usr/local/lib/python3.11/dist-packages (from datasets) (3.18.0)\n",
            "Requirement already satisfied: numpy>=1.17 in /usr/local/lib/python3.11/dist-packages (from datasets) (2.0.2)\n",
            "Requirement already satisfied: pyarrow>=15.0.0 in /usr/local/lib/python3.11/dist-packages (from datasets) (18.1.0)\n",
            "Collecting dill<0.3.9,>=0.3.0 (from datasets)\n",
            "  Downloading dill-0.3.8-py3-none-any.whl.metadata (10 kB)\n",
            "Requirement already satisfied: pandas in /usr/local/lib/python3.11/dist-packages (from datasets) (2.2.3)\n",
            "Requirement already satisfied: tqdm>=4.66.3 in /usr/local/lib/python3.11/dist-packages (from datasets) (4.67.1)\n",
            "Collecting xxhash (from datasets)\n",
            "  Downloading xxhash-3.5.0-cp311-cp311-manylinux_2_17_x86_64.manylinux2014_x86_64.whl.metadata (12 kB)\n",
            "Collecting multiprocess<0.70.17 (from datasets)\n",
            "  Downloading multiprocess-0.70.16-py311-none-any.whl.metadata (7.2 kB)\n",
            "Collecting fsspec<=2024.12.0,>=2023.1.0 (from fsspec[http]<=2024.12.0,>=2023.1.0->datasets)\n",
            "  Downloading fsspec-2024.12.0-py3-none-any.whl.metadata (11 kB)\n",
            "Requirement already satisfied: aiohttp in /usr/local/lib/python3.11/dist-packages (from datasets) (3.11.14)\n",
            "Requirement already satisfied: huggingface-hub>=0.24.0 in /usr/local/lib/python3.11/dist-packages (from datasets) (0.29.3)\n",
            "Requirement already satisfied: pyyaml>=5.1 in /usr/local/lib/python3.11/dist-packages (from datasets) (6.0.2)\n",
            "Requirement already satisfied: rich>=13.9.4 in /usr/local/lib/python3.11/dist-packages (from smolagents[gradio]) (13.9.4)\n",
            "Requirement already satisfied: jinja2>=3.1.4 in /usr/local/lib/python3.11/dist-packages (from smolagents[gradio]) (3.1.6)\n",
            "Requirement already satisfied: pillow>=11.0.0 in /usr/local/lib/python3.11/dist-packages (from smolagents[gradio]) (11.1.0)\n",
            "Requirement already satisfied: markdownify>=0.14.1 in /usr/local/lib/python3.11/dist-packages (from smolagents[gradio]) (1.1.0)\n",
            "Requirement already satisfied: duckduckgo-search>=6.3.7 in /usr/local/lib/python3.11/dist-packages (from smolagents[gradio]) (7.5.3)\n",
            "Requirement already satisfied: python-dotenv in /usr/local/lib/python3.11/dist-packages (from smolagents[gradio]) (1.1.0)\n",
            "Collecting aiofiles<24.0,>=22.0 (from gradio)\n",
            "  Downloading aiofiles-23.2.1-py3-none-any.whl.metadata (9.7 kB)\n",
            "Requirement already satisfied: fastapi<1.0,>=0.115.2 in /usr/local/lib/python3.11/dist-packages (from gradio) (0.115.12)\n",
            "Collecting ffmpy (from gradio)\n",
            "  Downloading ffmpy-0.5.0-py3-none-any.whl.metadata (3.0 kB)\n",
            "Collecting gradio-client==1.8.0 (from gradio)\n",
            "  Downloading gradio_client-1.8.0-py3-none-any.whl.metadata (7.1 kB)\n",
            "Collecting groovy~=0.1 (from gradio)\n",
            "  Downloading groovy-0.1.2-py3-none-any.whl.metadata (6.1 kB)\n",
            "Requirement already satisfied: markupsafe<4.0,>=2.0 in /usr/local/lib/python3.11/dist-packages (from gradio) (3.0.2)\n",
            "Requirement already satisfied: orjson~=3.0 in /usr/local/lib/python3.11/dist-packages (from gradio) (3.10.15)\n",
            "Collecting pydub (from gradio)\n",
            "  Downloading pydub-0.25.1-py2.py3-none-any.whl.metadata (1.4 kB)\n",
            "Requirement already satisfied: python-multipart>=0.0.18 in /usr/local/lib/python3.11/dist-packages (from gradio) (0.0.20)\n",
            "Collecting ruff>=0.9.3 (from gradio)\n",
            "  Downloading ruff-0.11.2-py3-none-manylinux_2_17_x86_64.manylinux2014_x86_64.whl.metadata (25 kB)\n",
            "Collecting safehttpx<0.2.0,>=0.1.6 (from gradio)\n",
            "  Downloading safehttpx-0.1.6-py3-none-any.whl.metadata (4.2 kB)\n",
            "Collecting semantic-version~=2.0 (from gradio)\n",
            "  Downloading semantic_version-2.10.0-py2.py3-none-any.whl.metadata (9.7 kB)\n",
            "Requirement already satisfied: starlette<1.0,>=0.40.0 in /usr/local/lib/python3.11/dist-packages (from gradio) (0.46.1)\n",
            "Collecting tomlkit<0.14.0,>=0.12.0 (from gradio)\n",
            "  Downloading tomlkit-0.13.2-py3-none-any.whl.metadata (2.7 kB)\n",
            "Requirement already satisfied: typer<1.0,>=0.12 in /usr/local/lib/python3.11/dist-packages (from gradio) (0.15.2)\n",
            "Requirement already satisfied: typing-extensions~=4.0 in /usr/local/lib/python3.11/dist-packages (from gradio) (4.12.2)\n",
            "Requirement already satisfied: uvicorn>=0.14.0 in /usr/local/lib/python3.11/dist-packages (from gradio) (0.34.0)\n",
            "Requirement already satisfied: websockets<16.0,>=10.0 in /usr/local/lib/python3.11/dist-packages (from gradio-client==1.8.0->gradio) (15.0.1)\n",
            "Requirement already satisfied: sniffio>=1.1 in /usr/local/lib/python3.11/dist-packages (from anyio<5.0.0,>=4.4.0->langfuse) (1.3.1)\n",
            "Requirement already satisfied: click>=8.1.8 in /usr/local/lib/python3.11/dist-packages (from duckduckgo-search>=6.3.7->smolagents[gradio]) (8.1.8)\n",
            "Requirement already satisfied: primp>=0.14.0 in /usr/local/lib/python3.11/dist-packages (from duckduckgo-search>=6.3.7->smolagents[gradio]) (0.14.0)\n",
            "Requirement already satisfied: lxml>=5.3.0 in /usr/local/lib/python3.11/dist-packages (from duckduckgo-search>=6.3.7->smolagents[gradio]) (5.3.1)\n",
            "Requirement already satisfied: aiohappyeyeballs>=2.3.0 in /usr/local/lib/python3.11/dist-packages (from aiohttp->datasets) (2.6.1)\n",
            "Requirement already satisfied: aiosignal>=1.1.2 in /usr/local/lib/python3.11/dist-packages (from aiohttp->datasets) (1.3.2)\n",
            "Requirement already satisfied: attrs>=17.3.0 in /usr/local/lib/python3.11/dist-packages (from aiohttp->datasets) (25.3.0)\n",
            "Requirement already satisfied: frozenlist>=1.1.1 in /usr/local/lib/python3.11/dist-packages (from aiohttp->datasets) (1.5.0)\n",
            "Requirement already satisfied: multidict<7.0,>=4.5 in /usr/local/lib/python3.11/dist-packages (from aiohttp->datasets) (6.2.0)\n",
            "Requirement already satisfied: propcache>=0.2.0 in /usr/local/lib/python3.11/dist-packages (from aiohttp->datasets) (0.3.0)\n",
            "Requirement already satisfied: yarl<2.0,>=1.17.0 in /usr/local/lib/python3.11/dist-packages (from aiohttp->datasets) (1.18.3)\n",
            "Requirement already satisfied: certifi in /usr/local/lib/python3.11/dist-packages (from httpx<1.0,>=0.15.4->langfuse) (2025.1.31)\n",
            "Requirement already satisfied: httpcore==1.* in /usr/local/lib/python3.11/dist-packages (from httpx<1.0,>=0.15.4->langfuse) (1.0.7)\n",
            "Requirement already satisfied: h11<0.15,>=0.13 in /usr/local/lib/python3.11/dist-packages (from httpcore==1.*->httpx<1.0,>=0.15.4->langfuse) (0.14.0)\n",
            "Requirement already satisfied: beautifulsoup4<5,>=4.9 in /usr/local/lib/python3.11/dist-packages (from markdownify>=0.14.1->smolagents[gradio]) (4.13.3)\n",
            "Requirement already satisfied: six<2,>=1.15 in /usr/local/lib/python3.11/dist-packages (from markdownify>=0.14.1->smolagents[gradio]) (1.17.0)\n",
            "Requirement already satisfied: python-dateutil>=2.8.2 in /usr/local/lib/python3.11/dist-packages (from pandas->datasets) (2.8.2)\n",
            "Requirement already satisfied: pytz>=2020.1 in /usr/local/lib/python3.11/dist-packages (from pandas->datasets) (2025.1)\n",
            "Requirement already satisfied: tzdata>=2022.7 in /usr/local/lib/python3.11/dist-packages (from pandas->datasets) (2025.1)\n",
            "Requirement already satisfied: annotated-types>=0.6.0 in /usr/local/lib/python3.11/dist-packages (from pydantic<3.0,>=1.10.7->langfuse) (0.7.0)\n",
            "Requirement already satisfied: pydantic-core==2.27.2 in /usr/local/lib/python3.11/dist-packages (from pydantic<3.0,>=1.10.7->langfuse) (2.27.2)\n",
            "Requirement already satisfied: charset-normalizer<4,>=2 in /usr/local/lib/python3.11/dist-packages (from requests<3,>=2->langfuse) (3.4.1)\n",
            "Requirement already satisfied: urllib3<3,>=1.21.1 in /usr/local/lib/python3.11/dist-packages (from requests<3,>=2->langfuse) (2.3.0)\n",
            "Requirement already satisfied: markdown-it-py>=2.2.0 in /usr/local/lib/python3.11/dist-packages (from rich>=13.9.4->smolagents[gradio]) (3.0.0)\n",
            "Requirement already satisfied: pygments<3.0.0,>=2.13.0 in /usr/local/lib/python3.11/dist-packages (from rich>=13.9.4->smolagents[gradio]) (2.18.0)\n",
            "Requirement already satisfied: shellingham>=1.3.0 in /usr/local/lib/python3.11/dist-packages (from typer<1.0,>=0.12->gradio) (1.5.4)\n",
            "Requirement already satisfied: soupsieve>1.2 in /usr/local/lib/python3.11/dist-packages (from beautifulsoup4<5,>=4.9->markdownify>=0.14.1->smolagents[gradio]) (2.6)\n",
            "Requirement already satisfied: mdurl~=0.1 in /usr/local/lib/python3.11/dist-packages (from markdown-it-py>=2.2.0->rich>=13.9.4->smolagents[gradio]) (0.1.2)\n",
            "Downloading langfuse-2.60.2-py3-none-any.whl (274 kB)\n",
            "\u001b[2K   \u001b[90m━━━━━━━━━━━━━━━━━━━━━━━━━━━━━━━━━━━━━━━━\u001b[0m \u001b[32m275.0/275.0 kB\u001b[0m \u001b[31m10.0 MB/s\u001b[0m eta \u001b[36m0:00:00\u001b[0m\n",
            "\u001b[?25hDownloading datasets-3.4.1-py3-none-any.whl (487 kB)\n",
            "\u001b[2K   \u001b[90m━━━━━━━━━━━━━━━━━━━━━━━━━━━━━━━━━━━━━━━━\u001b[0m \u001b[32m487.4/487.4 kB\u001b[0m \u001b[31m13.0 MB/s\u001b[0m eta \u001b[36m0:00:00\u001b[0m\n",
            "\u001b[?25hDownloading gradio-5.23.0-py3-none-any.whl (51.3 MB)\n",
            "\u001b[2K   \u001b[90m━━━━━━━━━━━━━━━━━━━━━━━━━━━━━━━━━━━━━━━━\u001b[0m \u001b[32m51.3/51.3 MB\u001b[0m \u001b[31m18.5 MB/s\u001b[0m eta \u001b[36m0:00:00\u001b[0m\n",
            "\u001b[?25hDownloading gradio_client-1.8.0-py3-none-any.whl (322 kB)\n",
            "\u001b[2K   \u001b[90m━━━━━━━━━━━━━━━━━━━━━━━━━━━━━━━━━━━━━━━━\u001b[0m \u001b[32m322.2/322.2 kB\u001b[0m \u001b[31m19.4 MB/s\u001b[0m eta \u001b[36m0:00:00\u001b[0m\n",
            "\u001b[?25hDownloading aiofiles-23.2.1-py3-none-any.whl (15 kB)\n",
            "Downloading backoff-2.2.1-py3-none-any.whl (15 kB)\n",
            "Downloading dill-0.3.8-py3-none-any.whl (116 kB)\n",
            "\u001b[2K   \u001b[90m━━━━━━━━━━━━━━━━━━━━━━━━━━━━━━━━━━━━━━━━\u001b[0m \u001b[32m116.3/116.3 kB\u001b[0m \u001b[31m9.0 MB/s\u001b[0m eta \u001b[36m0:00:00\u001b[0m\n",
            "\u001b[?25hDownloading fsspec-2024.12.0-py3-none-any.whl (183 kB)\n",
            "\u001b[2K   \u001b[90m━━━━━━━━━━━━━━━━━━━━━━━━━━━━━━━━━━━━━━━━\u001b[0m \u001b[32m183.9/183.9 kB\u001b[0m \u001b[31m13.8 MB/s\u001b[0m eta \u001b[36m0:00:00\u001b[0m\n",
            "\u001b[?25hDownloading groovy-0.1.2-py3-none-any.whl (14 kB)\n",
            "Downloading multiprocess-0.70.16-py311-none-any.whl (143 kB)\n",
            "\u001b[2K   \u001b[90m━━━━━━━━━━━━━━━━━━━━━━━━━━━━━━━━━━━━━━━━\u001b[0m \u001b[32m143.5/143.5 kB\u001b[0m \u001b[31m10.6 MB/s\u001b[0m eta \u001b[36m0:00:00\u001b[0m\n",
            "\u001b[?25hDownloading ruff-0.11.2-py3-none-manylinux_2_17_x86_64.manylinux2014_x86_64.whl (11.3 MB)\n",
            "\u001b[2K   \u001b[90m━━━━━━━━━━━━━━━━━━━━━━━━━━━━━━━━━━━━━━━━\u001b[0m \u001b[32m11.3/11.3 MB\u001b[0m \u001b[31m95.6 MB/s\u001b[0m eta \u001b[36m0:00:00\u001b[0m\n",
            "\u001b[?25hDownloading safehttpx-0.1.6-py3-none-any.whl (8.7 kB)\n",
            "Downloading semantic_version-2.10.0-py2.py3-none-any.whl (15 kB)\n",
            "Downloading tomlkit-0.13.2-py3-none-any.whl (37 kB)\n",
            "Downloading ffmpy-0.5.0-py3-none-any.whl (6.0 kB)\n",
            "Downloading pydub-0.25.1-py2.py3-none-any.whl (32 kB)\n",
            "Downloading xxhash-3.5.0-cp311-cp311-manylinux_2_17_x86_64.manylinux2014_x86_64.whl (194 kB)\n",
            "\u001b[2K   \u001b[90m━━━━━━━━━━━━━━━━━━━━━━━━━━━━━━━━━━━━━━━━\u001b[0m \u001b[32m194.8/194.8 kB\u001b[0m \u001b[31m15.7 MB/s\u001b[0m eta \u001b[36m0:00:00\u001b[0m\n",
            "\u001b[?25hInstalling collected packages: pydub, xxhash, tomlkit, semantic-version, ruff, groovy, fsspec, ffmpy, dill, backoff, aiofiles, multiprocess, safehttpx, langfuse, gradio-client, gradio, datasets\n",
            "  Attempting uninstall: fsspec\n",
            "    Found existing installation: fsspec 2025.3.0\n",
            "    Uninstalling fsspec-2025.3.0:\n",
            "      Successfully uninstalled fsspec-2025.3.0\n",
            "\u001b[31mERROR: pip's dependency resolver does not currently take into account all the packages that are installed. This behaviour is the source of the following dependency conflicts.\n",
            "gcsfs 2025.3.0 requires fsspec==2025.3.0, but you have fsspec 2024.12.0 which is incompatible.\n",
            "torch 2.6.0+cu124 requires nvidia-cublas-cu12==12.4.5.8; platform_system == \"Linux\" and platform_machine == \"x86_64\", but you have nvidia-cublas-cu12 12.5.3.2 which is incompatible.\n",
            "torch 2.6.0+cu124 requires nvidia-cuda-cupti-cu12==12.4.127; platform_system == \"Linux\" and platform_machine == \"x86_64\", but you have nvidia-cuda-cupti-cu12 12.5.82 which is incompatible.\n",
            "torch 2.6.0+cu124 requires nvidia-cuda-nvrtc-cu12==12.4.127; platform_system == \"Linux\" and platform_machine == \"x86_64\", but you have nvidia-cuda-nvrtc-cu12 12.5.82 which is incompatible.\n",
            "torch 2.6.0+cu124 requires nvidia-cuda-runtime-cu12==12.4.127; platform_system == \"Linux\" and platform_machine == \"x86_64\", but you have nvidia-cuda-runtime-cu12 12.5.82 which is incompatible.\n",
            "torch 2.6.0+cu124 requires nvidia-cudnn-cu12==9.1.0.70; platform_system == \"Linux\" and platform_machine == \"x86_64\", but you have nvidia-cudnn-cu12 9.3.0.75 which is incompatible.\n",
            "torch 2.6.0+cu124 requires nvidia-cufft-cu12==11.2.1.3; platform_system == \"Linux\" and platform_machine == \"x86_64\", but you have nvidia-cufft-cu12 11.2.3.61 which is incompatible.\n",
            "torch 2.6.0+cu124 requires nvidia-curand-cu12==10.3.5.147; platform_system == \"Linux\" and platform_machine == \"x86_64\", but you have nvidia-curand-cu12 10.3.6.82 which is incompatible.\n",
            "torch 2.6.0+cu124 requires nvidia-cusolver-cu12==11.6.1.9; platform_system == \"Linux\" and platform_machine == \"x86_64\", but you have nvidia-cusolver-cu12 11.6.3.83 which is incompatible.\n",
            "torch 2.6.0+cu124 requires nvidia-cusparse-cu12==12.3.1.170; platform_system == \"Linux\" and platform_machine == \"x86_64\", but you have nvidia-cusparse-cu12 12.5.1.3 which is incompatible.\n",
            "torch 2.6.0+cu124 requires nvidia-nvjitlink-cu12==12.4.127; platform_system == \"Linux\" and platform_machine == \"x86_64\", but you have nvidia-nvjitlink-cu12 12.5.82 which is incompatible.\u001b[0m\u001b[31m\n",
            "\u001b[0mSuccessfully installed aiofiles-23.2.1 backoff-2.2.1 datasets-3.4.1 dill-0.3.8 ffmpy-0.5.0 fsspec-2024.12.0 gradio-5.23.0 gradio-client-1.8.0 groovy-0.1.2 langfuse-2.60.2 multiprocess-0.70.16 pydub-0.25.1 ruff-0.11.2 safehttpx-0.1.6 semantic-version-2.10.0 tomlkit-0.13.2 xxhash-3.5.0\n"
          ]
        }
      ],
      "source": [
        "%pip install 'smolagents[telemetry]'\n",
        "%pip install opentelemetry-sdk opentelemetry-exporter-otlp openinference-instrumentation-smolagents\n",
        "%pip install langfuse datasets 'smolagents[gradio]' gradio"
      ]
    },
    {
      "cell_type": "markdown",
      "metadata": {
        "id": "0LkjXU3U3nm5"
      },
      "source": [
        "## Step 1: Instrument Your Agent\n",
        "\n",
        "In this notebook, we will use [Langfuse](https://langfuse.com/) as our observability tool, but you can use **any other OpenTelemetry-compatible service**. The code below shows how to set environment variables for Langfuse (or any OTel endpoint) and how to instrument your smolagent.\n",
        "\n",
        "**Note:** If you are using LlamaIndex or LangGraph, you can find documentation on instrumenting them [here](https://langfuse.com/docs/integrations/llama-index/workflows) and [here](https://langfuse.com/docs/integrations/langchain/example-python-langgraph)."
      ]
    },
    {
      "cell_type": "code",
      "execution_count": 2,
      "metadata": {
        "id": "yWtGlqlv3nm6"
      },
      "outputs": [],
      "source": [
        "import os\n",
        "import base64\n",
        "from google.colab import userdata\n",
        "\n",
        "# Get your own keys from https://cloud.langfuse.com\n",
        "os.environ[\"LANGFUSE_PUBLIC_KEY\"] = userdata.get('LANGFUSE_PUBLIC_KEY')\n",
        "os.environ[\"LANGFUSE_SECRET_KEY\"] = userdata.get('LANGFUSE_SECRET_KEY')\n",
        "#os.environ[\"LANGFUSE_HOST\"] = \"https://cloud.langfuse.com\"  # 🇪🇺 EU region example\n",
        "os.environ[\"LANGFUSE_HOST\"] = \"https://us.cloud.langfuse.com\"  # 🇺🇸 US region example\n",
        "\n",
        "LANGFUSE_AUTH = base64.b64encode(\n",
        "    f\"{os.environ.get('LANGFUSE_PUBLIC_KEY')}:{os.environ.get('LANGFUSE_SECRET_KEY')}\".encode()\n",
        ").decode()\n",
        "\n",
        "os.environ[\"OTEL_EXPORTER_OTLP_ENDPOINT\"] = os.environ.get(\"LANGFUSE_HOST\") + \"/api/public/otel\"\n",
        "os.environ[\"OTEL_EXPORTER_OTLP_HEADERS\"] = f\"Authorization=Basic {LANGFUSE_AUTH}\""
      ]
    },
    {
      "cell_type": "code",
      "execution_count": 3,
      "metadata": {
        "id": "UOrHIS3J3nm6"
      },
      "outputs": [],
      "source": [
        "# Set your Hugging Face and other tokens/secrets as environment variable\n",
        "os.environ[\"HF_TOKEN\"] = userdata.get('HF_TOKEN')"
      ]
    },
    {
      "cell_type": "code",
      "execution_count": 4,
      "metadata": {
        "id": "GmMG9RzE3nm6"
      },
      "outputs": [],
      "source": [
        "from opentelemetry.sdk.trace import TracerProvider\n",
        "from openinference.instrumentation.smolagents import SmolagentsInstrumentor\n",
        "from opentelemetry.exporter.otlp.proto.http.trace_exporter import OTLPSpanExporter\n",
        "from opentelemetry.sdk.trace.export import SimpleSpanProcessor\n",
        "\n",
        "# Create a TracerProvider for OpenTelemetry\n",
        "trace_provider = TracerProvider()\n",
        "\n",
        "# Add a SimpleSpanProcessor with the OTLPSpanExporter to send traces\n",
        "trace_provider.add_span_processor(SimpleSpanProcessor(OTLPSpanExporter()))\n",
        "\n",
        "# Set the global default tracer provider\n",
        "from opentelemetry import trace\n",
        "trace.set_tracer_provider(trace_provider)\n",
        "tracer = trace.get_tracer(__name__)\n",
        "\n",
        "# Instrument smolagents with the configured provider\n",
        "SmolagentsInstrumentor().instrument(tracer_provider=trace_provider)\n"
      ]
    },
    {
      "cell_type": "markdown",
      "metadata": {
        "id": "Qw84oYRH3nm7"
      },
      "source": [
        "## Step 2: Test Your Instrumentation\n",
        "\n",
        "Here is a simple CodeAgent from smolagents that calculates `1+1`. We run it to confirm that the instrumentation is working correctly. If everything is set up correctly, you will see logs/spans in your observability dashboard."
      ]
    },
    {
      "cell_type": "code",
      "execution_count": 5,
      "metadata": {
        "id": "Qta8FZ3v3nm7",
        "outputId": "c6dd1545-2dd3-4999-880f-a1a69e22e756",
        "colab": {
          "base_uri": "https://localhost:8080/",
          "height": 233
        }
      },
      "outputs": [
        {
          "output_type": "display_data",
          "data": {
            "text/plain": [
              "\u001b[38;2;212;183;2m╭─\u001b[0m\u001b[38;2;212;183;2m───────────────────────────────────────────────────\u001b[0m\u001b[38;2;212;183;2m \u001b[0m\u001b[1;38;2;212;183;2mNew run\u001b[0m\u001b[38;2;212;183;2m \u001b[0m\u001b[38;2;212;183;2m───────────────────────────────────────────────────\u001b[0m\u001b[38;2;212;183;2m─╮\u001b[0m\n",
              "\u001b[38;2;212;183;2m│\u001b[0m                                                                                                                 \u001b[38;2;212;183;2m│\u001b[0m\n",
              "\u001b[38;2;212;183;2m│\u001b[0m \u001b[1m1+1=\u001b[0m                                                                                                            \u001b[38;2;212;183;2m│\u001b[0m\n",
              "\u001b[38;2;212;183;2m│\u001b[0m                                                                                                                 \u001b[38;2;212;183;2m│\u001b[0m\n",
              "\u001b[38;2;212;183;2m╰─\u001b[0m\u001b[38;2;212;183;2m HfApiModel - Qwen/Qwen2.5-Coder-32B-Instruct \u001b[0m\u001b[38;2;212;183;2m─────────────────────────────────────────────────────────────────\u001b[0m\u001b[38;2;212;183;2m─╯\u001b[0m\n"
            ],
            "text/html": [
              "<pre style=\"white-space:pre;overflow-x:auto;line-height:normal;font-family:Menlo,'DejaVu Sans Mono',consolas,'Courier New',monospace\"><span style=\"color: #d4b702; text-decoration-color: #d4b702\">╭──────────────────────────────────────────────────── </span><span style=\"color: #d4b702; text-decoration-color: #d4b702; font-weight: bold\">New run</span><span style=\"color: #d4b702; text-decoration-color: #d4b702\"> ────────────────────────────────────────────────────╮</span>\n",
              "<span style=\"color: #d4b702; text-decoration-color: #d4b702\">│</span>                                                                                                                 <span style=\"color: #d4b702; text-decoration-color: #d4b702\">│</span>\n",
              "<span style=\"color: #d4b702; text-decoration-color: #d4b702\">│</span> <span style=\"font-weight: bold\">1+1=</span>                                                                                                            <span style=\"color: #d4b702; text-decoration-color: #d4b702\">│</span>\n",
              "<span style=\"color: #d4b702; text-decoration-color: #d4b702\">│</span>                                                                                                                 <span style=\"color: #d4b702; text-decoration-color: #d4b702\">│</span>\n",
              "<span style=\"color: #d4b702; text-decoration-color: #d4b702\">╰─ HfApiModel - Qwen/Qwen2.5-Coder-32B-Instruct ──────────────────────────────────────────────────────────────────╯</span>\n",
              "</pre>\n"
            ]
          },
          "metadata": {}
        },
        {
          "output_type": "display_data",
          "data": {
            "text/plain": [
              "\u001b[38;2;212;183;2m━━━━━━━━━━━━━━━━━━━━━━━━━━━━━━━━━━━━━━━━━━━━━━━━━━━━━ \u001b[0m\u001b[1mStep \u001b[0m\u001b[1;36m1\u001b[0m\u001b[38;2;212;183;2m ━━━━━━━━━━━━━━━━━━━━━━━━━━━━━━━━━━━━━━━━━━━━━━━━━━━━━━\u001b[0m\n"
            ],
            "text/html": [
              "<pre style=\"white-space:pre;overflow-x:auto;line-height:normal;font-family:Menlo,'DejaVu Sans Mono',consolas,'Courier New',monospace\"><span style=\"color: #d4b702; text-decoration-color: #d4b702\">━━━━━━━━━━━━━━━━━━━━━━━━━━━━━━━━━━━━━━━━━━━━━━━━━━━━━ </span><span style=\"font-weight: bold\">Step </span><span style=\"color: #008080; text-decoration-color: #008080; font-weight: bold\">1</span><span style=\"color: #d4b702; text-decoration-color: #d4b702\"> ━━━━━━━━━━━━━━━━━━━━━━━━━━━━━━━━━━━━━━━━━━━━━━━━━━━━━━</span>\n",
              "</pre>\n"
            ]
          },
          "metadata": {}
        },
        {
          "output_type": "display_data",
          "data": {
            "text/plain": [
              " ─ \u001b[1mExecuting parsed code:\u001b[0m ──────────────────────────────────────────────────────────────────────────────────────── \n",
              "  \u001b[38;2;248;248;242;48;2;39;40;34mresult\u001b[0m\u001b[38;2;248;248;242;48;2;39;40;34m \u001b[0m\u001b[38;2;255;70;137;48;2;39;40;34m=\u001b[0m\u001b[38;2;248;248;242;48;2;39;40;34m \u001b[0m\u001b[38;2;174;129;255;48;2;39;40;34m1\u001b[0m\u001b[38;2;248;248;242;48;2;39;40;34m \u001b[0m\u001b[38;2;255;70;137;48;2;39;40;34m+\u001b[0m\u001b[38;2;248;248;242;48;2;39;40;34m \u001b[0m\u001b[38;2;174;129;255;48;2;39;40;34m1\u001b[0m\u001b[48;2;39;40;34m                                                                                                 \u001b[0m  \n",
              "  \u001b[38;2;248;248;242;48;2;39;40;34mfinal_answer\u001b[0m\u001b[38;2;248;248;242;48;2;39;40;34m(\u001b[0m\u001b[38;2;248;248;242;48;2;39;40;34mresult\u001b[0m\u001b[38;2;248;248;242;48;2;39;40;34m)\u001b[0m\u001b[48;2;39;40;34m                                                                                           \u001b[0m  \n",
              " ───────────────────────────────────────────────────────────────────────────────────────────────────────────────── \n"
            ],
            "text/html": [
              "<pre style=\"white-space:pre;overflow-x:auto;line-height:normal;font-family:Menlo,'DejaVu Sans Mono',consolas,'Courier New',monospace\"> ─ <span style=\"font-weight: bold\">Executing parsed code:</span> ──────────────────────────────────────────────────────────────────────────────────────── \n",
              "  <span style=\"color: #f8f8f2; text-decoration-color: #f8f8f2; background-color: #272822\">result </span><span style=\"color: #ff4689; text-decoration-color: #ff4689; background-color: #272822\">=</span><span style=\"color: #f8f8f2; text-decoration-color: #f8f8f2; background-color: #272822\"> </span><span style=\"color: #ae81ff; text-decoration-color: #ae81ff; background-color: #272822\">1</span><span style=\"color: #f8f8f2; text-decoration-color: #f8f8f2; background-color: #272822\"> </span><span style=\"color: #ff4689; text-decoration-color: #ff4689; background-color: #272822\">+</span><span style=\"color: #f8f8f2; text-decoration-color: #f8f8f2; background-color: #272822\"> </span><span style=\"color: #ae81ff; text-decoration-color: #ae81ff; background-color: #272822\">1</span><span style=\"background-color: #272822\">                                                                                                 </span>  \n",
              "  <span style=\"color: #f8f8f2; text-decoration-color: #f8f8f2; background-color: #272822\">final_answer(result)</span><span style=\"background-color: #272822\">                                                                                           </span>  \n",
              " ───────────────────────────────────────────────────────────────────────────────────────────────────────────────── \n",
              "</pre>\n"
            ]
          },
          "metadata": {}
        },
        {
          "output_type": "display_data",
          "data": {
            "text/plain": [
              "\u001b[1;38;2;212;183;2mOut - Final answer: 2\u001b[0m\n"
            ],
            "text/html": [
              "<pre style=\"white-space:pre;overflow-x:auto;line-height:normal;font-family:Menlo,'DejaVu Sans Mono',consolas,'Courier New',monospace\"><span style=\"color: #d4b702; text-decoration-color: #d4b702; font-weight: bold\">Out - Final answer: 2</span>\n",
              "</pre>\n"
            ]
          },
          "metadata": {}
        },
        {
          "output_type": "display_data",
          "data": {
            "text/plain": [
              "\u001b[2m[Step 1: Duration 0.51 seconds| Input tokens: 2,013 | Output tokens: 53]\u001b[0m\n"
            ],
            "text/html": [
              "<pre style=\"white-space:pre;overflow-x:auto;line-height:normal;font-family:Menlo,'DejaVu Sans Mono',consolas,'Courier New',monospace\"><span style=\"color: #7f7f7f; text-decoration-color: #7f7f7f\">[Step 1: Duration 0.51 seconds| Input tokens: 2,013 | Output tokens: 53]</span>\n",
              "</pre>\n"
            ]
          },
          "metadata": {}
        },
        {
          "output_type": "execute_result",
          "data": {
            "text/plain": [
              "2"
            ]
          },
          "metadata": {},
          "execution_count": 5
        }
      ],
      "source": [
        "from smolagents import HfApiModel, CodeAgent\n",
        "\n",
        "# Create a simple agent to test instrumentation\n",
        "agent = CodeAgent(\n",
        "    tools=[],\n",
        "    model=HfApiModel()\n",
        ")\n",
        "\n",
        "agent.run(\"1+1=\")"
      ]
    },
    {
      "cell_type": "markdown",
      "metadata": {
        "id": "OD36NVt23nm8"
      },
      "source": [
        "Check your [Langfuse Traces Dashboard](https://cloud.langfuse.com/traces) (or your chosen observability tool) to confirm that the spans and logs have been recorded.\n",
        "\n",
        "Example screenshot from Langfuse:\n",
        "\n",
        "![Example trace in Langfuse](https://huggingface.co/datasets/agents-course/course-images/resolve/main/en/bonus-unit2/first-example-trace.png)\n",
        "\n",
        "_[Link to the trace](https://cloud.langfuse.com/project/cloramnkj0002jz088vzn1ja4/traces/1b94d6888258e0998329cdb72a371155?timestamp=2025-03-10T11%3A59%3A41.743Z)_"
      ]
    },
    {
      "cell_type": "markdown",
      "metadata": {
        "id": "Jvj2pWpx3nm8"
      },
      "source": [
        "## Step 3: Observe and Evaluate a More Complex Agent\n",
        "\n",
        "Now that you have confirmed your instrumentation works, let's try a more complex query so we can see how advanced metrics (token usage, latency, costs, etc.) are tracked."
      ]
    },
    {
      "cell_type": "code",
      "execution_count": 6,
      "metadata": {
        "id": "u1H5fI153nm8",
        "outputId": "cc0e2aa2-8180-47ae-cef7-b498b51881ac",
        "colab": {
          "base_uri": "https://localhost:8080/",
          "height": 1000
        }
      },
      "outputs": [
        {
          "output_type": "display_data",
          "data": {
            "text/plain": [
              "\u001b[38;2;212;183;2m╭─\u001b[0m\u001b[38;2;212;183;2m───────────────────────────────────────────────────\u001b[0m\u001b[38;2;212;183;2m \u001b[0m\u001b[1;38;2;212;183;2mNew run\u001b[0m\u001b[38;2;212;183;2m \u001b[0m\u001b[38;2;212;183;2m───────────────────────────────────────────────────\u001b[0m\u001b[38;2;212;183;2m─╮\u001b[0m\n",
              "\u001b[38;2;212;183;2m│\u001b[0m                                                                                                                 \u001b[38;2;212;183;2m│\u001b[0m\n",
              "\u001b[38;2;212;183;2m│\u001b[0m \u001b[1mHow many Rubik's Cubes could you fit inside the Notre Dame Cathedral?\u001b[0m                                           \u001b[38;2;212;183;2m│\u001b[0m\n",
              "\u001b[38;2;212;183;2m│\u001b[0m                                                                                                                 \u001b[38;2;212;183;2m│\u001b[0m\n",
              "\u001b[38;2;212;183;2m╰─\u001b[0m\u001b[38;2;212;183;2m HfApiModel - Qwen/Qwen2.5-Coder-32B-Instruct \u001b[0m\u001b[38;2;212;183;2m─────────────────────────────────────────────────────────────────\u001b[0m\u001b[38;2;212;183;2m─╯\u001b[0m\n"
            ],
            "text/html": [
              "<pre style=\"white-space:pre;overflow-x:auto;line-height:normal;font-family:Menlo,'DejaVu Sans Mono',consolas,'Courier New',monospace\"><span style=\"color: #d4b702; text-decoration-color: #d4b702\">╭──────────────────────────────────────────────────── </span><span style=\"color: #d4b702; text-decoration-color: #d4b702; font-weight: bold\">New run</span><span style=\"color: #d4b702; text-decoration-color: #d4b702\"> ────────────────────────────────────────────────────╮</span>\n",
              "<span style=\"color: #d4b702; text-decoration-color: #d4b702\">│</span>                                                                                                                 <span style=\"color: #d4b702; text-decoration-color: #d4b702\">│</span>\n",
              "<span style=\"color: #d4b702; text-decoration-color: #d4b702\">│</span> <span style=\"font-weight: bold\">How many Rubik's Cubes could you fit inside the Notre Dame Cathedral?</span>                                           <span style=\"color: #d4b702; text-decoration-color: #d4b702\">│</span>\n",
              "<span style=\"color: #d4b702; text-decoration-color: #d4b702\">│</span>                                                                                                                 <span style=\"color: #d4b702; text-decoration-color: #d4b702\">│</span>\n",
              "<span style=\"color: #d4b702; text-decoration-color: #d4b702\">╰─ HfApiModel - Qwen/Qwen2.5-Coder-32B-Instruct ──────────────────────────────────────────────────────────────────╯</span>\n",
              "</pre>\n"
            ]
          },
          "metadata": {}
        },
        {
          "output_type": "display_data",
          "data": {
            "text/plain": [
              "\u001b[38;2;212;183;2m━━━━━━━━━━━━━━━━━━━━━━━━━━━━━━━━━━━━━━━━━━━━━━━━━━━━━ \u001b[0m\u001b[1mStep \u001b[0m\u001b[1;36m1\u001b[0m\u001b[38;2;212;183;2m ━━━━━━━━━━━━━━━━━━━━━━━━━━━━━━━━━━━━━━━━━━━━━━━━━━━━━━\u001b[0m\n"
            ],
            "text/html": [
              "<pre style=\"white-space:pre;overflow-x:auto;line-height:normal;font-family:Menlo,'DejaVu Sans Mono',consolas,'Courier New',monospace\"><span style=\"color: #d4b702; text-decoration-color: #d4b702\">━━━━━━━━━━━━━━━━━━━━━━━━━━━━━━━━━━━━━━━━━━━━━━━━━━━━━ </span><span style=\"font-weight: bold\">Step </span><span style=\"color: #008080; text-decoration-color: #008080; font-weight: bold\">1</span><span style=\"color: #d4b702; text-decoration-color: #d4b702\"> ━━━━━━━━━━━━━━━━━━━━━━━━━━━━━━━━━━━━━━━━━━━━━━━━━━━━━━</span>\n",
              "</pre>\n"
            ]
          },
          "metadata": {}
        },
        {
          "output_type": "display_data",
          "data": {
            "text/plain": [
              " ─ \u001b[1mExecuting parsed code:\u001b[0m ──────────────────────────────────────────────────────────────────────────────────────── \n",
              "  \u001b[38;2;248;248;242;48;2;39;40;34mnotre_dame_volume\u001b[0m\u001b[38;2;248;248;242;48;2;39;40;34m \u001b[0m\u001b[38;2;255;70;137;48;2;39;40;34m=\u001b[0m\u001b[38;2;248;248;242;48;2;39;40;34m \u001b[0m\u001b[38;2;248;248;242;48;2;39;40;34mweb_search\u001b[0m\u001b[38;2;248;248;242;48;2;39;40;34m(\u001b[0m\u001b[38;2;248;248;242;48;2;39;40;34mquery\u001b[0m\u001b[38;2;255;70;137;48;2;39;40;34m=\u001b[0m\u001b[38;2;230;219;116;48;2;39;40;34m\"\u001b[0m\u001b[38;2;230;219;116;48;2;39;40;34mvolume of Notre Dame Cathedral\u001b[0m\u001b[38;2;230;219;116;48;2;39;40;34m\"\u001b[0m\u001b[38;2;248;248;242;48;2;39;40;34m)\u001b[0m\u001b[48;2;39;40;34m                                         \u001b[0m  \n",
              "  \u001b[38;2;248;248;242;48;2;39;40;34mrubik_cube_volume\u001b[0m\u001b[38;2;248;248;242;48;2;39;40;34m \u001b[0m\u001b[38;2;255;70;137;48;2;39;40;34m=\u001b[0m\u001b[38;2;248;248;242;48;2;39;40;34m \u001b[0m\u001b[38;2;248;248;242;48;2;39;40;34mweb_search\u001b[0m\u001b[38;2;248;248;242;48;2;39;40;34m(\u001b[0m\u001b[38;2;248;248;242;48;2;39;40;34mquery\u001b[0m\u001b[38;2;255;70;137;48;2;39;40;34m=\u001b[0m\u001b[38;2;230;219;116;48;2;39;40;34m\"\u001b[0m\u001b[38;2;230;219;116;48;2;39;40;34mvolume of standard Rubik\u001b[0m\u001b[38;2;230;219;116;48;2;39;40;34m'\u001b[0m\u001b[38;2;230;219;116;48;2;39;40;34ms Cube\u001b[0m\u001b[38;2;230;219;116;48;2;39;40;34m\"\u001b[0m\u001b[38;2;248;248;242;48;2;39;40;34m)\u001b[0m\u001b[48;2;39;40;34m                                        \u001b[0m  \n",
              "  \u001b[38;2;248;248;242;48;2;39;40;34mprint\u001b[0m\u001b[38;2;248;248;242;48;2;39;40;34m(\u001b[0m\u001b[38;2;230;219;116;48;2;39;40;34m\"\u001b[0m\u001b[38;2;230;219;116;48;2;39;40;34mNotre Dame Cathedral Volume:\u001b[0m\u001b[38;2;230;219;116;48;2;39;40;34m\"\u001b[0m\u001b[38;2;248;248;242;48;2;39;40;34m,\u001b[0m\u001b[38;2;248;248;242;48;2;39;40;34m \u001b[0m\u001b[38;2;248;248;242;48;2;39;40;34mnotre_dame_volume\u001b[0m\u001b[38;2;248;248;242;48;2;39;40;34m)\u001b[0m\u001b[48;2;39;40;34m                                                       \u001b[0m  \n",
              "  \u001b[38;2;248;248;242;48;2;39;40;34mprint\u001b[0m\u001b[38;2;248;248;242;48;2;39;40;34m(\u001b[0m\u001b[38;2;230;219;116;48;2;39;40;34m\"\u001b[0m\u001b[38;2;230;219;116;48;2;39;40;34mRubik\u001b[0m\u001b[38;2;230;219;116;48;2;39;40;34m'\u001b[0m\u001b[38;2;230;219;116;48;2;39;40;34ms Cube Volume:\u001b[0m\u001b[38;2;230;219;116;48;2;39;40;34m\"\u001b[0m\u001b[38;2;248;248;242;48;2;39;40;34m,\u001b[0m\u001b[38;2;248;248;242;48;2;39;40;34m \u001b[0m\u001b[38;2;248;248;242;48;2;39;40;34mrubik_cube_volume\u001b[0m\u001b[38;2;248;248;242;48;2;39;40;34m)\u001b[0m\u001b[48;2;39;40;34m                                                               \u001b[0m  \n",
              " ───────────────────────────────────────────────────────────────────────────────────────────────────────────────── \n"
            ],
            "text/html": [
              "<pre style=\"white-space:pre;overflow-x:auto;line-height:normal;font-family:Menlo,'DejaVu Sans Mono',consolas,'Courier New',monospace\"> ─ <span style=\"font-weight: bold\">Executing parsed code:</span> ──────────────────────────────────────────────────────────────────────────────────────── \n",
              "  <span style=\"color: #f8f8f2; text-decoration-color: #f8f8f2; background-color: #272822\">notre_dame_volume </span><span style=\"color: #ff4689; text-decoration-color: #ff4689; background-color: #272822\">=</span><span style=\"color: #f8f8f2; text-decoration-color: #f8f8f2; background-color: #272822\"> web_search(query</span><span style=\"color: #ff4689; text-decoration-color: #ff4689; background-color: #272822\">=</span><span style=\"color: #e6db74; text-decoration-color: #e6db74; background-color: #272822\">\"volume of Notre Dame Cathedral\"</span><span style=\"color: #f8f8f2; text-decoration-color: #f8f8f2; background-color: #272822\">)</span><span style=\"background-color: #272822\">                                         </span>  \n",
              "  <span style=\"color: #f8f8f2; text-decoration-color: #f8f8f2; background-color: #272822\">rubik_cube_volume </span><span style=\"color: #ff4689; text-decoration-color: #ff4689; background-color: #272822\">=</span><span style=\"color: #f8f8f2; text-decoration-color: #f8f8f2; background-color: #272822\"> web_search(query</span><span style=\"color: #ff4689; text-decoration-color: #ff4689; background-color: #272822\">=</span><span style=\"color: #e6db74; text-decoration-color: #e6db74; background-color: #272822\">\"volume of standard Rubik's Cube\"</span><span style=\"color: #f8f8f2; text-decoration-color: #f8f8f2; background-color: #272822\">)</span><span style=\"background-color: #272822\">                                        </span>  \n",
              "  <span style=\"color: #f8f8f2; text-decoration-color: #f8f8f2; background-color: #272822\">print(</span><span style=\"color: #e6db74; text-decoration-color: #e6db74; background-color: #272822\">\"Notre Dame Cathedral Volume:\"</span><span style=\"color: #f8f8f2; text-decoration-color: #f8f8f2; background-color: #272822\">, notre_dame_volume)</span><span style=\"background-color: #272822\">                                                       </span>  \n",
              "  <span style=\"color: #f8f8f2; text-decoration-color: #f8f8f2; background-color: #272822\">print(</span><span style=\"color: #e6db74; text-decoration-color: #e6db74; background-color: #272822\">\"Rubik's Cube Volume:\"</span><span style=\"color: #f8f8f2; text-decoration-color: #f8f8f2; background-color: #272822\">, rubik_cube_volume)</span><span style=\"background-color: #272822\">                                                               </span>  \n",
              " ───────────────────────────────────────────────────────────────────────────────────────────────────────────────── \n",
              "</pre>\n"
            ]
          },
          "metadata": {}
        },
        {
          "output_type": "display_data",
          "data": {
            "text/plain": [
              "\u001b[1mExecution logs:\u001b[0m\n",
              "Notre Dame Cathedral Volume: ## Search Results\n",
              "\n",
              "[List of largest church buildings - Wikipedia](https://en.wikipedia.org/wiki/List_of_largest_church_buildings)\n",
              "The longest Gothic cathedral in Europe [66] Notre Dame de Paris: 4,800 [citation needed] 5,500 9,000 1163-1345; \n",
              "2019-present (reconstruction) Paris France: Catholic Almudena Cathedral: 4,800 [citation needed] 1883-1993 Madrid \n",
              "Spain: Catholic It has a north-south orientation instead of east-west. Dresden Cathedral: 4,800 [citation needed]\n",
              "\n",
              "[Notre-Dame de Paris - Wikipedia](https://en.wikipedia.org/wiki/Notre-Dame_de_Paris)\n",
              "Notre-Dame de Paris (French: Cathédrale Notre-Dame de Paris French: [nɔtʁ(ə) dam də paʁi] ⓘ; meaning \"Cathedral of \n",
              "Our Lady of Paris\"), often referred to simply as Notre-Dame, [a] [b] is a medieval Catholic cathedral on the Île de\n",
              "la Cité (an island in the River Seine), in the 4th arrondissement of Paris, France.It is the cathedral church of \n",
              "the Roman Catholic Archdiocese of Paris.\n",
              "\n",
              "[The Cathedral of Notre Dame in Paris, France, covers an area of 4,800 ...](https://brainly.com/question/51016375)\n",
              "The volume of the Cathedral of Notre Dame is approximately 206,400 cubic meters, calculated using the area of 4,800\n",
              "square meters and a height of 43 meters. The formula used is Volume = Area × Height. This volume reflects the \n",
              "cathedral's impressive architectural design.\n",
              "\n",
              "[The Majestic Layout of Notre-Dame - Friends of Notre-Dame de \n",
              "Paris](https://www.friendsofnotredamedeparis.org/notre-dame-cathedral/architecture/layout/)\n",
              "Like most French cathedrals, Notre-Dame de Paris draws a plan in the shape of a Latin cross. Its main facade is \n",
              "oriented west-north-west, and the apse is oriented east-south-east. The cathedral can hold up to 9,000 people, \n",
              "including 1,500 in the stands. Notre Dame floor plans Notre Dame floor plans Notre-Dame Cathedral Dimensions\n",
              "\n",
              "[Plans and Elevations - Notre-Dame de Paris](https://www.notredamedeparis.fr/en/understand/architecture/plans/)\n",
              "Like most French cathedrals, Notre-Dame de Paris follows a Latin cross plan. Its main façade is oriented \n",
              "west-northwest, and its apse is oriented east-southeast. The cathedral can accommodate up to 9,000 people, \n",
              "including 1,500 in the galleries. Main Dimensions of the Cathedral. Overall area: over 6,000 m²; Length: 127 m; \n",
              "Width: 48 m\n",
              "\n",
              "[How Big Is The Notre Dame Cathedral - \n",
              "Christian.net](https://christian.net/arts-and-culture/how-big-is-the-notre-dame-cathedral/)\n",
              "The Notre Dame Cathedral's exterior is graced with a network of flying buttresses, an architectural innovation that\n",
              "allowed for the construction of soaring, open interiors and expansive stained glass windows. ... Interior Volume. \n",
              "The voluminous interior of the Notre Dame Cathedral encompasses a space that resonates with the echoes of centuries\n",
              "...\n",
              "\n",
              "[Notre-Dame de Paris - official website](https://www.notredamedeparis.fr/en/)\n",
              "\"Notre Dame, Queen of Peace… from the Magnificat to the Apocalypse\" For the first time since the 2019 fire, the \n",
              "traditional Lenten conferences are once again being held (in French) at Notre-Dame de Paris. This year, they will \n",
              "highlight the role of the Virgin Mary, Queen of Peace, in God's plan of salvation. Drawing from […]\n",
              "\n",
              "[Interior Architecture - Notre-Dame de \n",
              "Paris](https://www.notredamedeparis.fr/en/understand/architecture/interior-architecture/)\n",
              "Notre-Dame de Paris is characterized by a double row of columns forming the aisles. During an enlargement of the \n",
              "building in the 13th century, chapels were placed around the aisles. ... This volume is proportional to the \n",
              "dimensions of the cathedral. Liturgical celebrations take place in this space. The two arms of the transept are \n",
              "also called ...\n",
              "\n",
              "[Notre Dame Cathedral Paris: An Architecture Landmark to Visit in \n",
              "France](https://www.architecturelab.net/architecture/landmark/notre-dame-cathedral-paris/)\n",
              "Friends of Notre Dame de Paris is a non-profit organization supporting the cathedral's restoration. The virtual \n",
              "tour lets visitors visit the cathedral from their home computer, tablet, or mobile device. They can explore the \n",
              "exterior and interior of the cathedral and learn about its architecture, art, and symbolism. They can also see the \n",
              "...\n",
              "\n",
              "[Notre Dame Cathedral - Data, Photos & Plans - \n",
              "WikiArquitectura](https://en.wikiarquitectura.com/building/Notre-Dame-Cathedral/)\n",
              "The cathedral underwent many changes and restorations, the most significant undertaken in 1844 by Viollet-le-Duc \n",
              "and Baptiste Lassus, which lasted 23 years. More recently, in 1965, excavations under the cathedral revealed the \n",
              "existence of the catacombs of Roman and medieval rooms. Victor Hugo wrote in his 1831 novel \"Notre Dame de Paris\".\n",
              "Rubik's Cube Volume: ## Search Results\n",
              "\n",
              "[How to find the volume of a Rubik's cube? - CK-12 \n",
              "Foundation](https://www.ck12.org/flexi/cbse-math/volume-of-cubes-and-cuboids/how-to-find-the-volume-of-a-rubik's-cu\n",
              "be/)\n",
              "A Rubik's cube has the shape of a cube. For the cube having a length of each side as \n",
              "@$\\begin{align*}a,\\end{align*}@$ we have. Volume of cube, @$\\begin{align*}V_{ \\text{ cube}} = a^3 \\ \\text{cu. \n",
              "units}\\end{align*}@$ Click here to learn more about volume of a cube!\n",
              "\n",
              "[Rubik's Cube - Wikipedia](https://en.wikipedia.org/wiki/Rubik's_Cube)\n",
              "An illustration of an unsolved Rubik's Cube. The Rubik's Cube is a 3D combination puzzle invented in 1974 [2] [3] \n",
              "by Hungarian sculptor and professor of architecture Ernő Rubik.Originally called the Magic Cube, [4] the puzzle was\n",
              "licensed by Rubik to be sold by Pentangle Puzzles in the UK in 1978, [5] and then by Ideal Toy Corp in 1980 [6] via\n",
              "businessman Tibor Laczi and Seven Towns founder ...\n",
              "\n",
              "[PDF](https://depedtambayan.net/wp-content/uploads/2022/05/MATH5-Q4-MOD3.pdf)\n",
              "3x3x3 Rubik's Cube. The total number of small cubes in the transparent container is its volume. From the figure, \n",
              "consider each cube ( ) having each edge as 1 cm. There are 3 layers and each layer has nine 1 cm cubes. Therefore, \n",
              "the Rubik's Cube contains 27 cubes. Its volume is 27 cubic centimeters or 27 cm³.\n",
              "\n",
              "[Cube Calculator](https://www.omnicalculator.com/math/cube)\n",
              "Let's calculate the volume of a Rubik's cube: Enter the known value. In our case, we know that a standard Rubik's \n",
              "Cube measures 5.7 centimeters (2 1⁄4 in) on each side. Wow, that was quick! All the other parameters appear. Thanks\n",
              "to the cube calculator, we have just learned that: Volume is 11.4 cu in. Surface area is 30.4 in². Cube diagonal \n",
              "...\n",
              "\n",
              "[Volume of Cube - Formula | How to Find Volume of a Cube? - \n",
              "Cuemath](https://www.cuemath.com/measurement/volume-of-cube/)\n",
              "Example 1: Using the volume of a cube formula, calculate the side length of a Rubik's cube whose volume is 64 in 3.\n",
              "Solution: To find: Length of the cube (s) = 4 inches. Given: Volume of Rubik's cube = 64 in 3. Using the volume of \n",
              "cube formula, Volume of the cube = s 3, where 's' is the side length. Putting the values, we get, ⇒ 64 = (s 3 ...\n",
              "\n",
              "[Volume of Cubes - Explanation & Examples - The Story of \n",
              "Mathematics](https://www.storyofmathematics.com/volume-of-a-cube/)\n",
              "The edge of a Rubik's cube is 0.06 m. Find the volume of the Rubik's cube? Solution. Volume = a 3 = (0.06 x 0.06 x \n",
              "0.06) m 3 = 0.000216 m 3 = 2.16 x 10 - 4 m 3. Example 4. A cubical box of external dimensions 100 mm by 100 mm by \n",
              "100 mm is open at the top. Suppose the wooden box is made of 4 mm wood thick. Find the volume of the cube. Solution\n",
              "\n",
              "[Rubik's Cube Volume - PBS \n",
              "LearningMedia](https://www.pbslearningmedia.org/resource/mgbh.math.md.rubiks/rubiks-cube-volume/)\n",
              "Revealing multiple ways to find volume using a Rubik's cube. This video focuses on modeling volume and explaining \n",
              "why two different volume equations will give you the same answer. This video was submitted through the Innovation \n",
              "Math Challenge, a contest open to professional and nonprofessional producers.\n",
              "\n",
              "[Volume of Cube Calculator](https://calculatorhub.org/cube-volume-calculator/)\n",
              "Volume = 216 cm 3. The volume of a Rubik's Cube is 216 cubic centimeters. Example. 2. What is the volume of a \n",
              "cubical object with 15-inch-long sides? Solution : side length = 15 in . Using the cube volume formula, Volume = \n",
              "(side length) 3 Volume = (15) 3 Volume = 15 x 15 x 15 Volume = 3375 in 3. The volume of a cube object is 3375 cubic\n",
              "inches.\n",
              "\n",
              "[Cube - Shape, Definition, Net, Examples, Formulas - Cuemath](https://www.cuemath.com/measurement/cube/)\n",
              "Example 3: Find the volume of a Rubik's cube of length 6 in. Solution: To find the volume of a Rubik's cube: The \n",
              "length of the side of the cube= 6 in. (given) Using the cube formula, volume = s × s × s = s 3. Put the values, \n",
              "volume = 6 × 6 × 6 = 6 3 = 216. Answer: The volume of a Rubik's cube is 216 cubic inches.\n",
              "\n",
              "[Cube Formula - What are Cube All Formulas? Examples - Cuemath](https://www.cuemath.com/cube-formula/)\n",
              "Examples Using Cube Formula. Example 1: Find the volume of a Rubik's cube of length 4 in. Solution: To find the \n",
              "volume of a Rubik's cube: The length of the side of the cube, s = 4 in. (given) Using the cube formula, volume = s \n",
              "× s × s = s 3. Put the values, volume = 4 × 4 × 4 = 4 3 = 64. Answer: The volume of a Rubik's cube is 64 cubic \n",
              "inches.\n",
              "\n",
              "Out: None\n"
            ],
            "text/html": [
              "<pre style=\"white-space:pre;overflow-x:auto;line-height:normal;font-family:Menlo,'DejaVu Sans Mono',consolas,'Courier New',monospace\"><span style=\"font-weight: bold\">Execution logs:</span>\n",
              "Notre Dame Cathedral Volume: ## Search Results\n",
              "\n",
              "[List of largest church buildings - Wikipedia](https://en.wikipedia.org/wiki/List_of_largest_church_buildings)\n",
              "The longest Gothic cathedral in Europe [66] Notre Dame de Paris: 4,800 [citation needed] 5,500 9,000 1163-1345; \n",
              "2019-present (reconstruction) Paris France: Catholic Almudena Cathedral: 4,800 [citation needed] 1883-1993 Madrid \n",
              "Spain: Catholic It has a north-south orientation instead of east-west. Dresden Cathedral: 4,800 [citation needed]\n",
              "\n",
              "[Notre-Dame de Paris - Wikipedia](https://en.wikipedia.org/wiki/Notre-Dame_de_Paris)\n",
              "Notre-Dame de Paris (French: Cathédrale Notre-Dame de Paris French: [nɔtʁ(ə) dam də paʁi] ⓘ; meaning \"Cathedral of \n",
              "Our Lady of Paris\"), often referred to simply as Notre-Dame, [a] [b] is a medieval Catholic cathedral on the Île de\n",
              "la Cité (an island in the River Seine), in the 4th arrondissement of Paris, France.It is the cathedral church of \n",
              "the Roman Catholic Archdiocese of Paris.\n",
              "\n",
              "[The Cathedral of Notre Dame in Paris, France, covers an area of 4,800 ...](https://brainly.com/question/51016375)\n",
              "The volume of the Cathedral of Notre Dame is approximately 206,400 cubic meters, calculated using the area of 4,800\n",
              "square meters and a height of 43 meters. The formula used is Volume = Area × Height. This volume reflects the \n",
              "cathedral's impressive architectural design.\n",
              "\n",
              "[The Majestic Layout of Notre-Dame - Friends of Notre-Dame de \n",
              "Paris](https://www.friendsofnotredamedeparis.org/notre-dame-cathedral/architecture/layout/)\n",
              "Like most French cathedrals, Notre-Dame de Paris draws a plan in the shape of a Latin cross. Its main facade is \n",
              "oriented west-north-west, and the apse is oriented east-south-east. The cathedral can hold up to 9,000 people, \n",
              "including 1,500 in the stands. Notre Dame floor plans Notre Dame floor plans Notre-Dame Cathedral Dimensions\n",
              "\n",
              "[Plans and Elevations - Notre-Dame de Paris](https://www.notredamedeparis.fr/en/understand/architecture/plans/)\n",
              "Like most French cathedrals, Notre-Dame de Paris follows a Latin cross plan. Its main façade is oriented \n",
              "west-northwest, and its apse is oriented east-southeast. The cathedral can accommodate up to 9,000 people, \n",
              "including 1,500 in the galleries. Main Dimensions of the Cathedral. Overall area: over 6,000 m²; Length: 127 m; \n",
              "Width: 48 m\n",
              "\n",
              "[How Big Is The Notre Dame Cathedral - \n",
              "Christian.net](https://christian.net/arts-and-culture/how-big-is-the-notre-dame-cathedral/)\n",
              "The Notre Dame Cathedral's exterior is graced with a network of flying buttresses, an architectural innovation that\n",
              "allowed for the construction of soaring, open interiors and expansive stained glass windows. ... Interior Volume. \n",
              "The voluminous interior of the Notre Dame Cathedral encompasses a space that resonates with the echoes of centuries\n",
              "...\n",
              "\n",
              "[Notre-Dame de Paris - official website](https://www.notredamedeparis.fr/en/)\n",
              "\"Notre Dame, Queen of Peace… from the Magnificat to the Apocalypse\" For the first time since the 2019 fire, the \n",
              "traditional Lenten conferences are once again being held (in French) at Notre-Dame de Paris. This year, they will \n",
              "highlight the role of the Virgin Mary, Queen of Peace, in God's plan of salvation. Drawing from […]\n",
              "\n",
              "[Interior Architecture - Notre-Dame de \n",
              "Paris](https://www.notredamedeparis.fr/en/understand/architecture/interior-architecture/)\n",
              "Notre-Dame de Paris is characterized by a double row of columns forming the aisles. During an enlargement of the \n",
              "building in the 13th century, chapels were placed around the aisles. ... This volume is proportional to the \n",
              "dimensions of the cathedral. Liturgical celebrations take place in this space. The two arms of the transept are \n",
              "also called ...\n",
              "\n",
              "[Notre Dame Cathedral Paris: An Architecture Landmark to Visit in \n",
              "France](https://www.architecturelab.net/architecture/landmark/notre-dame-cathedral-paris/)\n",
              "Friends of Notre Dame de Paris is a non-profit organization supporting the cathedral's restoration. The virtual \n",
              "tour lets visitors visit the cathedral from their home computer, tablet, or mobile device. They can explore the \n",
              "exterior and interior of the cathedral and learn about its architecture, art, and symbolism. They can also see the \n",
              "...\n",
              "\n",
              "[Notre Dame Cathedral - Data, Photos &amp; Plans - \n",
              "WikiArquitectura](https://en.wikiarquitectura.com/building/Notre-Dame-Cathedral/)\n",
              "The cathedral underwent many changes and restorations, the most significant undertaken in 1844 by Viollet-le-Duc \n",
              "and Baptiste Lassus, which lasted 23 years. More recently, in 1965, excavations under the cathedral revealed the \n",
              "existence of the catacombs of Roman and medieval rooms. Victor Hugo wrote in his 1831 novel \"Notre Dame de Paris\".\n",
              "Rubik's Cube Volume: ## Search Results\n",
              "\n",
              "[How to find the volume of a Rubik's cube? - CK-12 \n",
              "Foundation](https://www.ck12.org/flexi/cbse-math/volume-of-cubes-and-cuboids/how-to-find-the-volume-of-a-rubik's-cu\n",
              "be/)\n",
              "A Rubik's cube has the shape of a cube. For the cube having a length of each side as \n",
              "@$\\begin{align*}a,\\end{align*}@$ we have. Volume of cube, @$\\begin{align*}V_{ \\text{ cube}} = a^3 \\ \\text{cu. \n",
              "units}\\end{align*}@$ Click here to learn more about volume of a cube!\n",
              "\n",
              "[Rubik's Cube - Wikipedia](https://en.wikipedia.org/wiki/Rubik's_Cube)\n",
              "An illustration of an unsolved Rubik's Cube. The Rubik's Cube is a 3D combination puzzle invented in 1974 [2] [3] \n",
              "by Hungarian sculptor and professor of architecture Ernő Rubik.Originally called the Magic Cube, [4] the puzzle was\n",
              "licensed by Rubik to be sold by Pentangle Puzzles in the UK in 1978, [5] and then by Ideal Toy Corp in 1980 [6] via\n",
              "businessman Tibor Laczi and Seven Towns founder ...\n",
              "\n",
              "[PDF](https://depedtambayan.net/wp-content/uploads/2022/05/MATH5-Q4-MOD3.pdf)\n",
              "3x3x3 Rubik's Cube. The total number of small cubes in the transparent container is its volume. From the figure, \n",
              "consider each cube ( ) having each edge as 1 cm. There are 3 layers and each layer has nine 1 cm cubes. Therefore, \n",
              "the Rubik's Cube contains 27 cubes. Its volume is 27 cubic centimeters or 27 cm³.\n",
              "\n",
              "[Cube Calculator](https://www.omnicalculator.com/math/cube)\n",
              "Let's calculate the volume of a Rubik's cube: Enter the known value. In our case, we know that a standard Rubik's \n",
              "Cube measures 5.7 centimeters (2 1⁄4 in) on each side. Wow, that was quick! All the other parameters appear. Thanks\n",
              "to the cube calculator, we have just learned that: Volume is 11.4 cu in. Surface area is 30.4 in². Cube diagonal \n",
              "...\n",
              "\n",
              "[Volume of Cube - Formula | How to Find Volume of a Cube? - \n",
              "Cuemath](https://www.cuemath.com/measurement/volume-of-cube/)\n",
              "Example 1: Using the volume of a cube formula, calculate the side length of a Rubik's cube whose volume is 64 in 3.\n",
              "Solution: To find: Length of the cube (s) = 4 inches. Given: Volume of Rubik's cube = 64 in 3. Using the volume of \n",
              "cube formula, Volume of the cube = s 3, where 's' is the side length. Putting the values, we get, ⇒ 64 = (s 3 ...\n",
              "\n",
              "[Volume of Cubes - Explanation &amp; Examples - The Story of \n",
              "Mathematics](https://www.storyofmathematics.com/volume-of-a-cube/)\n",
              "The edge of a Rubik's cube is 0.06 m. Find the volume of the Rubik's cube? Solution. Volume = a 3 = (0.06 x 0.06 x \n",
              "0.06) m 3 = 0.000216 m 3 = 2.16 x 10 - 4 m 3. Example 4. A cubical box of external dimensions 100 mm by 100 mm by \n",
              "100 mm is open at the top. Suppose the wooden box is made of 4 mm wood thick. Find the volume of the cube. Solution\n",
              "\n",
              "[Rubik's Cube Volume - PBS \n",
              "LearningMedia](https://www.pbslearningmedia.org/resource/mgbh.math.md.rubiks/rubiks-cube-volume/)\n",
              "Revealing multiple ways to find volume using a Rubik's cube. This video focuses on modeling volume and explaining \n",
              "why two different volume equations will give you the same answer. This video was submitted through the Innovation \n",
              "Math Challenge, a contest open to professional and nonprofessional producers.\n",
              "\n",
              "[Volume of Cube Calculator](https://calculatorhub.org/cube-volume-calculator/)\n",
              "Volume = 216 cm 3. The volume of a Rubik's Cube is 216 cubic centimeters. Example. 2. What is the volume of a \n",
              "cubical object with 15-inch-long sides? Solution : side length = 15 in . Using the cube volume formula, Volume = \n",
              "(side length) 3 Volume = (15) 3 Volume = 15 x 15 x 15 Volume = 3375 in 3. The volume of a cube object is 3375 cubic\n",
              "inches.\n",
              "\n",
              "[Cube - Shape, Definition, Net, Examples, Formulas - Cuemath](https://www.cuemath.com/measurement/cube/)\n",
              "Example 3: Find the volume of a Rubik's cube of length 6 in. Solution: To find the volume of a Rubik's cube: The \n",
              "length of the side of the cube= 6 in. (given) Using the cube formula, volume = s × s × s = s 3. Put the values, \n",
              "volume = 6 × 6 × 6 = 6 3 = 216. Answer: The volume of a Rubik's cube is 216 cubic inches.\n",
              "\n",
              "[Cube Formula - What are Cube All Formulas? Examples - Cuemath](https://www.cuemath.com/cube-formula/)\n",
              "Examples Using Cube Formula. Example 1: Find the volume of a Rubik's cube of length 4 in. Solution: To find the \n",
              "volume of a Rubik's cube: The length of the side of the cube, s = 4 in. (given) Using the cube formula, volume = s \n",
              "× s × s = s 3. Put the values, volume = 4 × 4 × 4 = 4 3 = 64. Answer: The volume of a Rubik's cube is 64 cubic \n",
              "inches.\n",
              "\n",
              "Out: None\n",
              "</pre>\n"
            ]
          },
          "metadata": {}
        },
        {
          "output_type": "display_data",
          "data": {
            "text/plain": [
              "\u001b[2m[Step 1: Duration 3.16 seconds| Input tokens: 2,086 | Output tokens: 120]\u001b[0m\n"
            ],
            "text/html": [
              "<pre style=\"white-space:pre;overflow-x:auto;line-height:normal;font-family:Menlo,'DejaVu Sans Mono',consolas,'Courier New',monospace\"><span style=\"color: #7f7f7f; text-decoration-color: #7f7f7f\">[Step 1: Duration 3.16 seconds| Input tokens: 2,086 | Output tokens: 120]</span>\n",
              "</pre>\n"
            ]
          },
          "metadata": {}
        },
        {
          "output_type": "display_data",
          "data": {
            "text/plain": [
              "\u001b[38;2;212;183;2m━━━━━━━━━━━━━━━━━━━━━━━━━━━━━━━━━━━━━━━━━━━━━━━━━━━━━ \u001b[0m\u001b[1mStep \u001b[0m\u001b[1;36m2\u001b[0m\u001b[38;2;212;183;2m ━━━━━━━━━━━━━━━━━━━━━━━━━━━━━━━━━━━━━━━━━━━━━━━━━━━━━━\u001b[0m\n"
            ],
            "text/html": [
              "<pre style=\"white-space:pre;overflow-x:auto;line-height:normal;font-family:Menlo,'DejaVu Sans Mono',consolas,'Courier New',monospace\"><span style=\"color: #d4b702; text-decoration-color: #d4b702\">━━━━━━━━━━━━━━━━━━━━━━━━━━━━━━━━━━━━━━━━━━━━━━━━━━━━━ </span><span style=\"font-weight: bold\">Step </span><span style=\"color: #008080; text-decoration-color: #008080; font-weight: bold\">2</span><span style=\"color: #d4b702; text-decoration-color: #d4b702\"> ━━━━━━━━━━━━━━━━━━━━━━━━━━━━━━━━━━━━━━━━━━━━━━━━━━━━━━</span>\n",
              "</pre>\n"
            ]
          },
          "metadata": {}
        },
        {
          "output_type": "display_data",
          "data": {
            "text/plain": [
              " ─ \u001b[1mExecuting parsed code:\u001b[0m ──────────────────────────────────────────────────────────────────────────────────────── \n",
              "  \u001b[38;2;149;144;119;48;2;39;40;34m# Volume of Notre Dame Cathedral in cubic meters\u001b[0m\u001b[48;2;39;40;34m                                                               \u001b[0m  \n",
              "  \u001b[38;2;248;248;242;48;2;39;40;34mnotre_dame_volume\u001b[0m\u001b[38;2;248;248;242;48;2;39;40;34m \u001b[0m\u001b[38;2;255;70;137;48;2;39;40;34m=\u001b[0m\u001b[38;2;248;248;242;48;2;39;40;34m \u001b[0m\u001b[38;2;174;129;255;48;2;39;40;34m206400\u001b[0m\u001b[48;2;39;40;34m                                                                                     \u001b[0m  \n",
              "  \u001b[48;2;39;40;34m                                                                                                               \u001b[0m  \n",
              "  \u001b[38;2;149;144;119;48;2;39;40;34m# Volume of a standard Rubik's Cube in cubic meters\u001b[0m\u001b[48;2;39;40;34m                                                            \u001b[0m  \n",
              "  \u001b[38;2;248;248;242;48;2;39;40;34mrubik_cube_volume\u001b[0m\u001b[38;2;248;248;242;48;2;39;40;34m \u001b[0m\u001b[38;2;255;70;137;48;2;39;40;34m=\u001b[0m\u001b[38;2;248;248;242;48;2;39;40;34m \u001b[0m\u001b[38;2;174;129;255;48;2;39;40;34m0.000216\u001b[0m\u001b[48;2;39;40;34m                                                                                   \u001b[0m  \n",
              "  \u001b[48;2;39;40;34m                                                                                                               \u001b[0m  \n",
              "  \u001b[38;2;149;144;119;48;2;39;40;34m# Number of Rubik's Cubes that can fit inside Notre Dame Cathedral\u001b[0m\u001b[48;2;39;40;34m                                             \u001b[0m  \n",
              "  \u001b[38;2;248;248;242;48;2;39;40;34mnumber_of_rubiks_cubes\u001b[0m\u001b[38;2;248;248;242;48;2;39;40;34m \u001b[0m\u001b[38;2;255;70;137;48;2;39;40;34m=\u001b[0m\u001b[38;2;248;248;242;48;2;39;40;34m \u001b[0m\u001b[38;2;248;248;242;48;2;39;40;34mnotre_dame_volume\u001b[0m\u001b[38;2;248;248;242;48;2;39;40;34m \u001b[0m\u001b[38;2;255;70;137;48;2;39;40;34m/\u001b[0m\u001b[38;2;248;248;242;48;2;39;40;34m \u001b[0m\u001b[38;2;248;248;242;48;2;39;40;34mrubik_cube_volume\u001b[0m\u001b[48;2;39;40;34m                                                 \u001b[0m  \n",
              "  \u001b[38;2;248;248;242;48;2;39;40;34mfinal_answer\u001b[0m\u001b[38;2;248;248;242;48;2;39;40;34m(\u001b[0m\u001b[38;2;248;248;242;48;2;39;40;34mint\u001b[0m\u001b[38;2;248;248;242;48;2;39;40;34m(\u001b[0m\u001b[38;2;248;248;242;48;2;39;40;34mnumber_of_rubiks_cubes\u001b[0m\u001b[38;2;248;248;242;48;2;39;40;34m)\u001b[0m\u001b[38;2;248;248;242;48;2;39;40;34m)\u001b[0m\u001b[48;2;39;40;34m                                                                      \u001b[0m  \n",
              " ───────────────────────────────────────────────────────────────────────────────────────────────────────────────── \n"
            ],
            "text/html": [
              "<pre style=\"white-space:pre;overflow-x:auto;line-height:normal;font-family:Menlo,'DejaVu Sans Mono',consolas,'Courier New',monospace\"> ─ <span style=\"font-weight: bold\">Executing parsed code:</span> ──────────────────────────────────────────────────────────────────────────────────────── \n",
              "  <span style=\"color: #959077; text-decoration-color: #959077; background-color: #272822\"># Volume of Notre Dame Cathedral in cubic meters</span><span style=\"background-color: #272822\">                                                               </span>  \n",
              "  <span style=\"color: #f8f8f2; text-decoration-color: #f8f8f2; background-color: #272822\">notre_dame_volume </span><span style=\"color: #ff4689; text-decoration-color: #ff4689; background-color: #272822\">=</span><span style=\"color: #f8f8f2; text-decoration-color: #f8f8f2; background-color: #272822\"> </span><span style=\"color: #ae81ff; text-decoration-color: #ae81ff; background-color: #272822\">206400</span><span style=\"background-color: #272822\">                                                                                     </span>  \n",
              "  <span style=\"background-color: #272822\">                                                                                                               </span>  \n",
              "  <span style=\"color: #959077; text-decoration-color: #959077; background-color: #272822\"># Volume of a standard Rubik's Cube in cubic meters</span><span style=\"background-color: #272822\">                                                            </span>  \n",
              "  <span style=\"color: #f8f8f2; text-decoration-color: #f8f8f2; background-color: #272822\">rubik_cube_volume </span><span style=\"color: #ff4689; text-decoration-color: #ff4689; background-color: #272822\">=</span><span style=\"color: #f8f8f2; text-decoration-color: #f8f8f2; background-color: #272822\"> </span><span style=\"color: #ae81ff; text-decoration-color: #ae81ff; background-color: #272822\">0.000216</span><span style=\"background-color: #272822\">                                                                                   </span>  \n",
              "  <span style=\"background-color: #272822\">                                                                                                               </span>  \n",
              "  <span style=\"color: #959077; text-decoration-color: #959077; background-color: #272822\"># Number of Rubik's Cubes that can fit inside Notre Dame Cathedral</span><span style=\"background-color: #272822\">                                             </span>  \n",
              "  <span style=\"color: #f8f8f2; text-decoration-color: #f8f8f2; background-color: #272822\">number_of_rubiks_cubes </span><span style=\"color: #ff4689; text-decoration-color: #ff4689; background-color: #272822\">=</span><span style=\"color: #f8f8f2; text-decoration-color: #f8f8f2; background-color: #272822\"> notre_dame_volume </span><span style=\"color: #ff4689; text-decoration-color: #ff4689; background-color: #272822\">/</span><span style=\"color: #f8f8f2; text-decoration-color: #f8f8f2; background-color: #272822\"> rubik_cube_volume</span><span style=\"background-color: #272822\">                                                 </span>  \n",
              "  <span style=\"color: #f8f8f2; text-decoration-color: #f8f8f2; background-color: #272822\">final_answer(int(number_of_rubiks_cubes))</span><span style=\"background-color: #272822\">                                                                      </span>  \n",
              " ───────────────────────────────────────────────────────────────────────────────────────────────────────────────── \n",
              "</pre>\n"
            ]
          },
          "metadata": {}
        },
        {
          "output_type": "display_data",
          "data": {
            "text/plain": [
              "\u001b[1;38;2;212;183;2mOut - Final answer: 955555555\u001b[0m\n"
            ],
            "text/html": [
              "<pre style=\"white-space:pre;overflow-x:auto;line-height:normal;font-family:Menlo,'DejaVu Sans Mono',consolas,'Courier New',monospace\"><span style=\"color: #d4b702; text-decoration-color: #d4b702; font-weight: bold\">Out - Final answer: 955555555</span>\n",
              "</pre>\n"
            ]
          },
          "metadata": {}
        },
        {
          "output_type": "display_data",
          "data": {
            "text/plain": [
              "\u001b[2m[Step 2: Duration 31.22 seconds| Input tokens: 6,936 | Output tokens: 310]\u001b[0m\n"
            ],
            "text/html": [
              "<pre style=\"white-space:pre;overflow-x:auto;line-height:normal;font-family:Menlo,'DejaVu Sans Mono',consolas,'Courier New',monospace\"><span style=\"color: #7f7f7f; text-decoration-color: #7f7f7f\">[Step 2: Duration 31.22 seconds| Input tokens: 6,936 | Output tokens: 310]</span>\n",
              "</pre>\n"
            ]
          },
          "metadata": {}
        },
        {
          "output_type": "execute_result",
          "data": {
            "text/plain": [
              "955555555"
            ]
          },
          "metadata": {},
          "execution_count": 6
        }
      ],
      "source": [
        "from smolagents import (CodeAgent, DuckDuckGoSearchTool, HfApiModel)\n",
        "\n",
        "search_tool = DuckDuckGoSearchTool()\n",
        "agent = CodeAgent(tools=[search_tool], model=HfApiModel())\n",
        "\n",
        "agent.run(\"How many Rubik's Cubes could you fit inside the Notre Dame Cathedral?\")"
      ]
    },
    {
      "cell_type": "markdown",
      "metadata": {
        "id": "NvdPS-SF3nm8"
      },
      "source": [
        "### Trace Structure\n",
        "\n",
        "Most observability tools record a **trace** that contains **spans**, which represent each step of your agent’s logic. Here, the trace contains the overall agent run and sub-spans for:\n",
        "- The tool calls (DuckDuckGoSearchTool)\n",
        "- The LLM calls (HfApiModel)\n",
        "\n",
        "You can inspect these to see precisely where time is spent, how many tokens are used, and so on:\n",
        "\n",
        "![Trace tree in Langfuse](https://huggingface.co/datasets/agents-course/course-images/resolve/main/en/bonus-unit2/trace-tree.png)\n",
        "\n",
        "_[Link to the trace](https://cloud.langfuse.com/project/cloramnkj0002jz088vzn1ja4/traces/1ac33b89ffd5e75d4265b62900c348ed?timestamp=2025-03-07T13%3A45%3A09.149Z&display=preview)_"
      ]
    },
    {
      "cell_type": "markdown",
      "metadata": {
        "id": "oXMI9M6b3nm8"
      },
      "source": [
        "## Online Evaluation\n",
        "\n",
        "In the previous section, we learned about the difference between online and offline evaluation. Now, we will see how to monitor your agent in production and evaluate it live.\n",
        "\n",
        "### Common Metrics to Track in Production\n",
        "\n",
        "1. **Costs** — The smolagents instrumentation captures token usage, which you can transform into approximate costs by assigning a price per token.\n",
        "2. **Latency** — Observe the time it takes to complete each step, or the entire run.\n",
        "3. **User Feedback** — Users can provide direct feedback (thumbs up/down) to help refine or correct the agent.\n",
        "4. **LLM-as-a-Judge** — Use a separate LLM to evaluate your agent’s output in near real-time (e.g., checking for toxicity or correctness).\n",
        "\n",
        "Below, we show examples of these metrics."
      ]
    },
    {
      "cell_type": "markdown",
      "metadata": {
        "id": "pje0d7Ng3nm9"
      },
      "source": [
        "#### 1. Costs\n",
        "\n",
        "Below is a screenshot showing usage for `Qwen2.5-Coder-32B-Instruct` calls. This is useful to see costly steps and optimize your agent.\n",
        "\n",
        "![Costs](https://huggingface.co/datasets/agents-course/course-images/resolve/main/en/bonus-unit2/smolagents-costs.png)\n",
        "\n",
        "_[Link to the trace](https://cloud.langfuse.com/project/cloramnkj0002jz088vzn1ja4/traces/1ac33b89ffd5e75d4265b62900c348ed?timestamp=2025-03-07T13%3A45%3A09.149Z&display=preview)_"
      ]
    },
    {
      "cell_type": "markdown",
      "metadata": {
        "id": "87zgzf3W3nm9"
      },
      "source": [
        "#### 2. Latency\n",
        "\n",
        "We can also see how long it took to complete each step. In the example below, the entire conversation took 32 seconds, which you can break down by step. This helps you identify bottlenecks and optimize your agent.\n",
        "\n",
        "![Latency](https://huggingface.co/datasets/agents-course/course-images/resolve/main/en/bonus-unit2/smolagents-latency.png)\n",
        "\n",
        "_[Link to the trace](https://cloud.langfuse.com/project/cloramnkj0002jz088vzn1ja4/traces/1ac33b89ffd5e75d4265b62900c348ed?timestamp=2025-03-07T13%3A45%3A09.149Z&display=preview)_"
      ]
    },
    {
      "cell_type": "markdown",
      "metadata": {
        "id": "7Zg08zJJ3nm9"
      },
      "source": [
        "#### 3. Additional Attributes\n",
        "\n",
        "You may also pass additional attributes—such as user IDs, session IDs, or tags—by setting them on the spans. For example, smolagents instrumentation uses OpenTelemetry to attach attributes like `langfuse.user.id` or custom tags."
      ]
    },
    {
      "cell_type": "code",
      "execution_count": null,
      "metadata": {
        "id": "Hiuw-84a3nm9"
      },
      "outputs": [],
      "source": [
        "from smolagents import (CodeAgent, DuckDuckGoSearchTool, HfApiModel)\n",
        "from opentelemetry import trace\n",
        "\n",
        "search_tool = DuckDuckGoSearchTool()\n",
        "agent = CodeAgent(\n",
        "    tools=[search_tool],\n",
        "    model=HfApiModel()\n",
        ")\n",
        "\n",
        "with tracer.start_as_current_span(\"Smolagent-Trace\") as span:\n",
        "    span.set_attribute(\"langfuse.user.id\", \"smolagent-user-123\")\n",
        "    span.set_attribute(\"langfuse.session.id\", \"smolagent-session-123456789\")\n",
        "    span.set_attribute(\"langfuse.tags\", [\"city-question\", \"testing-agents\"])\n",
        "\n",
        "    agent.run(\"What is the capital of Germany?\")"
      ]
    },
    {
      "cell_type": "markdown",
      "metadata": {
        "id": "F6goXzgG3nm9"
      },
      "source": [
        "![Enhancing agent runs with additional metrics](https://huggingface.co/datasets/agents-course/course-images/resolve/main/en/bonus-unit2/smolagents-attributes.png)"
      ]
    },
    {
      "cell_type": "markdown",
      "metadata": {
        "id": "ap2HL6QZ3nm9"
      },
      "source": [
        "#### 4. User Feedback\n",
        "\n",
        "If your agent is embedded into a user interface, you can record direct user feedback (like a thumbs-up/down in a chat UI). Below is an example using [Gradio](https://gradio.app/) to embed a chat with a simple feedback mechanism.\n",
        "\n",
        "In the code snippet below, when a user sends a chat message, we capture the OpenTelemetry trace ID. If the user likes/dislikes the last answer, we attach a score to the trace."
      ]
    },
    {
      "cell_type": "code",
      "execution_count": null,
      "metadata": {
        "id": "CaBZURIW3nm-"
      },
      "outputs": [],
      "source": [
        "import gradio as gr\n",
        "from opentelemetry.trace import format_trace_id\n",
        "from smolagents import (CodeAgent, HfApiModel)\n",
        "from langfuse import Langfuse\n",
        "\n",
        "langfuse = Langfuse()\n",
        "model = HfApiModel()\n",
        "agent = CodeAgent(tools=[], model=model, add_base_tools=True)\n",
        "\n",
        "formatted_trace_id = None  # We'll store the current trace_id globally for demonstration\n",
        "\n",
        "def respond(prompt, history):\n",
        "    with trace.get_tracer(__name__).start_as_current_span(\"Smolagent-Trace\") as span:\n",
        "        output = agent.run(prompt)\n",
        "\n",
        "        current_span = trace.get_current_span()\n",
        "        span_context = current_span.get_span_context()\n",
        "        trace_id = span_context.trace_id\n",
        "        global formatted_trace_id\n",
        "        formatted_trace_id = str(format_trace_id(trace_id))\n",
        "        langfuse.trace(id=formatted_trace_id, input=prompt, output=output)\n",
        "\n",
        "    history.append({\"role\": \"assistant\", \"content\": str(output)})\n",
        "    return history\n",
        "\n",
        "def handle_like(data: gr.LikeData):\n",
        "    # For demonstration, we map user feedback to a 1 (like) or 0 (dislike)\n",
        "    if data.liked:\n",
        "        langfuse.score(\n",
        "            value=1,\n",
        "            name=\"user-feedback\",\n",
        "            trace_id=formatted_trace_id\n",
        "        )\n",
        "    else:\n",
        "        langfuse.score(\n",
        "            value=0,\n",
        "            name=\"user-feedback\",\n",
        "            trace_id=formatted_trace_id\n",
        "        )\n",
        "\n",
        "with gr.Blocks() as demo:\n",
        "    chatbot = gr.Chatbot(label=\"Chat\", type=\"messages\")\n",
        "    prompt_box = gr.Textbox(placeholder=\"Type your message...\", label=\"Your message\")\n",
        "\n",
        "    # When the user presses 'Enter' on the prompt, we run 'respond'\n",
        "    prompt_box.submit(\n",
        "        fn=respond,\n",
        "        inputs=[prompt_box, chatbot],\n",
        "        outputs=chatbot\n",
        "    )\n",
        "\n",
        "    # When the user clicks a 'like' button on a message, we run 'handle_like'\n",
        "    chatbot.like(handle_like, None, None)\n",
        "\n",
        "demo.launch()\n"
      ]
    },
    {
      "cell_type": "markdown",
      "metadata": {
        "id": "OSQNUh7z3nm-"
      },
      "source": [
        "User feedback is then captured in your observability tool:\n",
        "\n",
        "![User feedback is being captured in Langfuse](https://huggingface.co/datasets/agents-course/course-images/resolve/main/en/bonus-unit2/user-feedback-gradio.png)"
      ]
    },
    {
      "cell_type": "markdown",
      "metadata": {
        "id": "TZoIX5sF3nm-"
      },
      "source": [
        "#### 5. LLM-as-a-Judge\n",
        "\n",
        "LLM-as-a-Judge is another way to automatically evaluate your agent's output. You can set up a separate LLM call to gauge the output’s correctness, toxicity, style, or any other criteria you care about.\n",
        "\n",
        "**Workflow**:\n",
        "1. You define an **Evaluation Template**, e.g., \"Check if the text is toxic.\"\n",
        "2. Each time your agent generates output, you pass that output to your \"judge\" LLM with the template.\n",
        "3. The judge LLM responds with a rating or label that you log to your observability tool.\n",
        "\n",
        "Example from Langfuse:\n",
        "\n",
        "![LLM-as-a-Judge Evaluation Template](https://huggingface.co/datasets/agents-course/course-images/resolve/main/en/bonus-unit2/evaluator-template.png)\n",
        "![LLM-as-a-Judge Evaluator](https://huggingface.co/datasets/agents-course/course-images/resolve/main/en/bonus-unit2/evaluator.png)"
      ]
    },
    {
      "cell_type": "code",
      "execution_count": null,
      "metadata": {
        "id": "z38egVla3nm-"
      },
      "outputs": [],
      "source": [
        "# Example: Checking if the agent’s output is toxic or not.\n",
        "from smolagents import (CodeAgent, DuckDuckGoSearchTool, HfApiModel)\n",
        "\n",
        "search_tool = DuckDuckGoSearchTool()\n",
        "agent = CodeAgent(tools=[search_tool], model=HfApiModel())\n",
        "\n",
        "agent.run(\"Can eating carrots improve your vision?\")"
      ]
    },
    {
      "cell_type": "markdown",
      "metadata": {
        "id": "yB1BZXte3nm-"
      },
      "source": [
        "You can see that the answer of this example is judged as \"not toxic\".\n",
        "\n",
        "![LLM-as-a-Judge Evaluation Score](https://huggingface.co/datasets/agents-course/course-images/resolve/main/en/bonus-unit2/llm-as-a-judge-score.png)"
      ]
    },
    {
      "cell_type": "markdown",
      "metadata": {
        "id": "f2_BNhBy3nm-"
      },
      "source": [
        "#### 6. Observability Metrics Overview\n",
        "\n",
        "All of these metrics can be visualized together in dashboards. This enables you to quickly see how your agent performs across many sessions and helps you to track quality metrics over time.\n",
        "\n",
        "![Observability metrics overview](https://huggingface.co/datasets/agents-course/course-images/resolve/main/en/bonus-unit2/langfuse-dashboard.png)"
      ]
    },
    {
      "cell_type": "markdown",
      "metadata": {
        "id": "ttGYAHdY3nm_"
      },
      "source": [
        "## Offline Evaluation\n",
        "\n",
        "Online evaluation is essential for live feedback, but you also need **offline evaluation**—systematic checks before or during development. This helps maintain quality and reliability before rolling changes into production."
      ]
    },
    {
      "cell_type": "markdown",
      "metadata": {
        "id": "j2Z_UY9Q3nm_"
      },
      "source": [
        "### Dataset Evaluation\n",
        "\n",
        "In offline evaluation, you typically:\n",
        "1. Have a benchmark dataset (with prompt and expected output pairs)\n",
        "2. Run your agent on that dataset\n",
        "3. Compare outputs to the expected results or use an additional scoring mechanism\n",
        "\n",
        "Below, we demonstrate this approach with the [GSM8K dataset](https://huggingface.co/datasets/gsm8k), which contains math questions and solutions."
      ]
    },
    {
      "cell_type": "code",
      "execution_count": null,
      "metadata": {
        "id": "a3Iu6KON3nm_"
      },
      "outputs": [],
      "source": [
        "import pandas as pd\n",
        "from datasets import load_dataset\n",
        "\n",
        "# Fetch GSM8K from Hugging Face\n",
        "dataset = load_dataset(\"openai/gsm8k\", 'main', split='train')\n",
        "df = pd.DataFrame(dataset)\n",
        "print(\"First few rows of GSM8K dataset:\")\n",
        "print(df.head())"
      ]
    },
    {
      "cell_type": "markdown",
      "metadata": {
        "id": "rAupuZIq3nm_"
      },
      "source": [
        "Next, we create a dataset entity in Langfuse to track the runs. Then, we add each item from the dataset to the system. (If you’re not using Langfuse, you might simply store these in your own database or local file for analysis.)"
      ]
    },
    {
      "cell_type": "code",
      "execution_count": null,
      "metadata": {
        "id": "WcHm-K9C3nm_"
      },
      "outputs": [],
      "source": [
        "from langfuse import Langfuse\n",
        "langfuse = Langfuse()\n",
        "\n",
        "langfuse_dataset_name = \"gsm8k_dataset_huggingface\"\n",
        "\n",
        "# Create a dataset in Langfuse\n",
        "langfuse.create_dataset(\n",
        "    name=langfuse_dataset_name,\n",
        "    description=\"GSM8K benchmark dataset uploaded from Huggingface\",\n",
        "    metadata={\n",
        "        \"date\": \"2025-03-10\",\n",
        "        \"type\": \"benchmark\"\n",
        "    }\n",
        ")"
      ]
    },
    {
      "cell_type": "code",
      "execution_count": null,
      "metadata": {
        "id": "9J6sPvej3nm_"
      },
      "outputs": [],
      "source": [
        "for idx, row in df.iterrows():\n",
        "    langfuse.create_dataset_item(\n",
        "        dataset_name=langfuse_dataset_name,\n",
        "        input={\"text\": row[\"question\"]},\n",
        "        expected_output={\"text\": row[\"answer\"]},\n",
        "        metadata={\"source_index\": idx}\n",
        "    )\n",
        "    if idx >= 9: # Upload only the first 10 items for demonstration\n",
        "        break"
      ]
    },
    {
      "cell_type": "markdown",
      "metadata": {
        "id": "b0xvwhJ-3nnA"
      },
      "source": [
        "![Dataset items in Langfuse](https://huggingface.co/datasets/agents-course/course-images/resolve/main/en/bonus-unit2/example-dataset.png)"
      ]
    },
    {
      "cell_type": "markdown",
      "metadata": {
        "id": "88635Mla3nnA"
      },
      "source": [
        "#### Running the Agent on the Dataset\n",
        "\n",
        "We define a helper function `run_smolagent()` that:\n",
        "1. Starts an OpenTelemetry span\n",
        "2. Runs our agent on the prompt\n",
        "3. Records the trace ID in Langfuse\n",
        "\n",
        "Then, we loop over each dataset item, run the agent, and link the trace to the dataset item. We can also attach a quick evaluation score if desired."
      ]
    },
    {
      "cell_type": "code",
      "execution_count": null,
      "metadata": {
        "id": "8JB35Ccz3nnA"
      },
      "outputs": [],
      "source": [
        "from opentelemetry.trace import format_trace_id\n",
        "from smolagents import (CodeAgent, HfApiModel, LiteLLMModel)\n",
        "\n",
        "# Example: using HfApiModel or LiteLLMModel to access openai, anthropic, gemini, etc. models:\n",
        "model = HfApiModel()\n",
        "\n",
        "agent = CodeAgent(\n",
        "    tools=[],\n",
        "    model=model,\n",
        "    add_base_tools=True\n",
        ")\n",
        "\n",
        "def run_smolagent(question):\n",
        "    with tracer.start_as_current_span(\"Smolagent-Trace\") as span:\n",
        "        span.set_attribute(\"langfuse.tag\", \"dataset-run\")\n",
        "        output = agent.run(question)\n",
        "\n",
        "        current_span = trace.get_current_span()\n",
        "        span_context = current_span.get_span_context()\n",
        "        trace_id = span_context.trace_id\n",
        "        formatted_trace_id = format_trace_id(trace_id)\n",
        "\n",
        "        langfuse_trace = langfuse.trace(\n",
        "            id=formatted_trace_id,\n",
        "            input=question,\n",
        "            output=output\n",
        "        )\n",
        "    return langfuse_trace, output"
      ]
    },
    {
      "cell_type": "code",
      "execution_count": null,
      "metadata": {
        "id": "kplkfVz83nnA"
      },
      "outputs": [],
      "source": [
        "dataset = langfuse.get_dataset(langfuse_dataset_name)\n",
        "\n",
        "# Run our agent against each dataset item (limited to first 10 above)\n",
        "for item in dataset.items:\n",
        "    langfuse_trace, output = run_smolagent(item.input[\"text\"])\n",
        "\n",
        "    # Link the trace to the dataset item for analysis\n",
        "    item.link(\n",
        "        langfuse_trace,\n",
        "        run_name=\"smolagent-notebook-run-01\",\n",
        "        run_metadata={ \"model\": model.model_id }\n",
        "    )\n",
        "\n",
        "    # Optionally, store a quick evaluation score for demonstration\n",
        "    langfuse_trace.score(\n",
        "        name=\"<example_eval>\",\n",
        "        value=1,\n",
        "        comment=\"This is a comment\"\n",
        "    )\n",
        "\n",
        "# Flush data to ensure all telemetry is sent\n",
        "langfuse.flush()"
      ]
    },
    {
      "cell_type": "markdown",
      "metadata": {
        "id": "ZQ_ZzwqQ3nnA"
      },
      "source": [
        "You can repeat this process with different:\n",
        "- Models (OpenAI GPT, local LLM, etc.)\n",
        "- Tools (search vs. no search)\n",
        "- Prompts (different system messages)\n",
        "\n",
        "Then compare them side-by-side in your observability tool:\n",
        "\n",
        "![Dataset run overview](https://huggingface.co/datasets/agents-course/course-images/resolve/main/en/bonus-unit2/dataset_runs.png)\n",
        "![Dataset run comparison](https://huggingface.co/datasets/agents-course/course-images/resolve/main/en/bonus-unit2/dataset-run-comparison.png)\n"
      ]
    },
    {
      "cell_type": "markdown",
      "metadata": {
        "id": "yuvo6ZD83nnA"
      },
      "source": [
        "## Final Thoughts\n",
        "\n",
        "In this notebook, we covered how to:\n",
        "1. **Set up Observability** using smolagents + OpenTelemetry exporters\n",
        "2. **Check Instrumentation** by running a simple agent\n",
        "3. **Capture Detailed Metrics** (cost, latency, etc.) through an observability tools\n",
        "4. **Collect User Feedback** via a Gradio interface\n",
        "5. **Use LLM-as-a-Judge** to automatically evaluate outputs\n",
        "6. **Perform Offline Evaluation** with a benchmark dataset\n",
        "\n",
        "🤗 Happy coding!"
      ]
    }
  ],
  "metadata": {
    "kernelspec": {
      "display_name": "Python 3",
      "language": "python",
      "name": "python3"
    },
    "language_info": {
      "codemirror_mode": {
        "name": "ipython",
        "version": 3
      },
      "file_extension": ".py",
      "mimetype": "text/x-python",
      "name": "python",
      "nbconvert_exporter": "python",
      "pygments_lexer": "ipython3",
      "version": "3.13.2"
    },
    "colab": {
      "provenance": [],
      "include_colab_link": true
    }
  },
  "nbformat": 4,
  "nbformat_minor": 0
}