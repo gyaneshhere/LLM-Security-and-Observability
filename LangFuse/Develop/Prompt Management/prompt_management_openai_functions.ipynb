{
  "cells": [
    {
      "cell_type": "markdown",
      "metadata": {
        "id": "view-in-github",
        "colab_type": "text"
      },
      "source": [
        "<a href=\"https://colab.research.google.com/github/gyaneshhere/LLM-Security-and-Observability/blob/main/LangFuse/Develop/Prompt%20Management/prompt_management_openai_functions.ipynb\" target=\"_parent\"><img src=\"https://colab.research.google.com/assets/colab-badge.svg\" alt=\"Open In Colab\"/></a>"
      ]
    },
    {
      "cell_type": "markdown",
      "metadata": {
        "id": "Yc7JQAashNea"
      },
      "source": [
        "---\n",
        "description: Cookbook on how to use Langfuse Prompt Management to version control prompts collaboratively when using OpenAI functions.\n",
        "category: Prompt Management\n",
        "---\n",
        "\n",
        "# Example: Langfuse Prompt Management for OpenAI functions (Python)\n",
        "\n",
        "Langfuse [Prompt Management](https://langfuse.com/docs/prompts) helps to version control and manage prompts collaboratively in one place. This example demostrates how to use the flexible `config` object on Langfuse prompts to store function calling options and model parameters."
      ]
    },
    {
      "cell_type": "markdown",
      "metadata": {
        "id": "TwyrmsWZhsFW"
      },
      "source": [
        "## Setup"
      ]
    },
    {
      "cell_type": "code",
      "execution_count": 1,
      "metadata": {
        "colab": {
          "base_uri": "https://localhost:8080/"
        },
        "id": "gJzIBAVKKdoD",
        "outputId": "ac1dc8ee-4903-40ae-9a90-cb2fd53986aa"
      },
      "outputs": [
        {
          "output_type": "stream",
          "name": "stdout",
          "text": [
            "Collecting langfuse\n",
            "  Downloading langfuse-2.60.3-py3-none-any.whl.metadata (3.2 kB)\n",
            "Requirement already satisfied: openai in /usr/local/lib/python3.11/dist-packages (1.75.0)\n",
            "Requirement already satisfied: anyio<5.0.0,>=4.4.0 in /usr/local/lib/python3.11/dist-packages (from langfuse) (4.9.0)\n",
            "Collecting backoff>=1.10.0 (from langfuse)\n",
            "  Downloading backoff-2.2.1-py3-none-any.whl.metadata (14 kB)\n",
            "Requirement already satisfied: httpx<1.0,>=0.15.4 in /usr/local/lib/python3.11/dist-packages (from langfuse) (0.28.1)\n",
            "Requirement already satisfied: idna<4.0,>=3.7 in /usr/local/lib/python3.11/dist-packages (from langfuse) (3.10)\n",
            "Requirement already satisfied: packaging<25.0,>=23.2 in /usr/local/lib/python3.11/dist-packages (from langfuse) (24.2)\n",
            "Requirement already satisfied: pydantic<3.0,>=1.10.7 in /usr/local/lib/python3.11/dist-packages (from langfuse) (2.11.3)\n",
            "Requirement already satisfied: requests<3,>=2 in /usr/local/lib/python3.11/dist-packages (from langfuse) (2.32.3)\n",
            "Requirement already satisfied: wrapt<2.0,>=1.14 in /usr/local/lib/python3.11/dist-packages (from langfuse) (1.17.2)\n",
            "Requirement already satisfied: distro<2,>=1.7.0 in /usr/local/lib/python3.11/dist-packages (from openai) (1.9.0)\n",
            "Requirement already satisfied: jiter<1,>=0.4.0 in /usr/local/lib/python3.11/dist-packages (from openai) (0.9.0)\n",
            "Requirement already satisfied: sniffio in /usr/local/lib/python3.11/dist-packages (from openai) (1.3.1)\n",
            "Requirement already satisfied: tqdm>4 in /usr/local/lib/python3.11/dist-packages (from openai) (4.67.1)\n",
            "Requirement already satisfied: typing-extensions<5,>=4.11 in /usr/local/lib/python3.11/dist-packages (from openai) (4.13.2)\n",
            "Requirement already satisfied: certifi in /usr/local/lib/python3.11/dist-packages (from httpx<1.0,>=0.15.4->langfuse) (2025.1.31)\n",
            "Requirement already satisfied: httpcore==1.* in /usr/local/lib/python3.11/dist-packages (from httpx<1.0,>=0.15.4->langfuse) (1.0.8)\n",
            "Requirement already satisfied: h11<0.15,>=0.13 in /usr/local/lib/python3.11/dist-packages (from httpcore==1.*->httpx<1.0,>=0.15.4->langfuse) (0.14.0)\n",
            "Requirement already satisfied: annotated-types>=0.6.0 in /usr/local/lib/python3.11/dist-packages (from pydantic<3.0,>=1.10.7->langfuse) (0.7.0)\n",
            "Requirement already satisfied: pydantic-core==2.33.1 in /usr/local/lib/python3.11/dist-packages (from pydantic<3.0,>=1.10.7->langfuse) (2.33.1)\n",
            "Requirement already satisfied: typing-inspection>=0.4.0 in /usr/local/lib/python3.11/dist-packages (from pydantic<3.0,>=1.10.7->langfuse) (0.4.0)\n",
            "Requirement already satisfied: charset-normalizer<4,>=2 in /usr/local/lib/python3.11/dist-packages (from requests<3,>=2->langfuse) (3.4.1)\n",
            "Requirement already satisfied: urllib3<3,>=1.21.1 in /usr/local/lib/python3.11/dist-packages (from requests<3,>=2->langfuse) (2.3.0)\n",
            "Downloading langfuse-2.60.3-py3-none-any.whl (275 kB)\n",
            "\u001b[2K   \u001b[90m━━━━━━━━━━━━━━━━━━━━━━━━━━━━━━━━━━━━━━━━\u001b[0m \u001b[32m275.0/275.0 kB\u001b[0m \u001b[31m5.0 MB/s\u001b[0m eta \u001b[36m0:00:00\u001b[0m\n",
            "\u001b[?25hDownloading backoff-2.2.1-py3-none-any.whl (15 kB)\n",
            "Installing collected packages: backoff, langfuse\n",
            "Successfully installed backoff-2.2.1 langfuse-2.60.3\n"
          ]
        }
      ],
      "source": [
        "%pip install langfuse openai --upgrade"
      ]
    },
    {
      "cell_type": "code",
      "source": [
        "from google.colab import userdata"
      ],
      "metadata": {
        "id": "b0iKj6oP5OO_"
      },
      "execution_count": 2,
      "outputs": []
    },
    {
      "cell_type": "code",
      "execution_count": 3,
      "metadata": {
        "id": "_f8m2HYAKfJz"
      },
      "outputs": [],
      "source": [
        "import os\n",
        "\n",
        "# Get keys for your project\n",
        "os.environ[\"LANGFUSE_PUBLIC_KEY\"] = userdata.get('LANGFUSE_PUBLIC_KEY')\n",
        "os.environ[\"LANGFUSE_SECRET_KEY\"] = userdata.get('LANGFUSE_SECRET_KEY')\n",
        "os.environ[\"LANGFUSE_HOST\"] = \"https://us.cloud.langfuse.com\"\n",
        "\n",
        "# OpenAI key\n",
        "os.environ[\"OPENAI_API_KEY\"] = userdata.get('OPENAI_API_KEY')"
      ]
    },
    {
      "cell_type": "code",
      "execution_count": 4,
      "metadata": {
        "colab": {
          "base_uri": "https://localhost:8080/"
        },
        "id": "0ABMEWVCKsPW",
        "outputId": "ff265251-d27f-4764-e796-babab60a7f8e"
      },
      "outputs": [
        {
          "output_type": "execute_result",
          "data": {
            "text/plain": [
              "True"
            ]
          },
          "metadata": {},
          "execution_count": 4
        }
      ],
      "source": [
        "from langfuse import Langfuse\n",
        "langfuse = Langfuse()\n",
        "\n",
        "# optional, verify that Langfuse is configured correctly\n",
        "langfuse.auth_check()"
      ]
    },
    {
      "cell_type": "markdown",
      "metadata": {
        "id": "fdHpmb6vLAiW"
      },
      "source": [
        "## Add prompt to Langfuse Prompt Management\n",
        "\n",
        "We add the prompt used in this example via the SDK. Alternatively, you can also edit and version the prompt in the Langfuse UI.\n",
        "\n",
        "- `Name` that identifies the prompt in Langfuse Prompt Management\n",
        "- Prompt with `json_schema` variable\n",
        "- Config including `model_name`, `temperature`, and `json_schema`\n",
        "- `labels` to include `production` to immediately use the prompt as the default"
      ]
    },
    {
      "cell_type": "code",
      "execution_count": 5,
      "metadata": {
        "id": "pX54t3k0gM5w"
      },
      "outputs": [],
      "source": [
        "langfuse.create_prompt(\n",
        "    name=\"story_summarization\",\n",
        "    prompt=\"Extract the key information from this text and return it in JSON format. Use the following schema: {{json_schema}}\",\n",
        "    config={\n",
        "        \"model\":\"gpt-3.5-turbo-1106\",\n",
        "        \"temperature\": 0,\n",
        "        \"json_schema\":{\n",
        "            \"main_character\": \"string (name of protagonist)\",\n",
        "            \"key_content\": \"string (1 sentence)\",\n",
        "            \"keywords\": \"array of strings\",\n",
        "            \"genre\": \"string (genre of story)\",\n",
        "            \"critic_review_comment\": \"string (write similar to a new york times critic)\",\n",
        "            \"critic_score\": \"number (between 0 bad and 10 exceptional)\"\n",
        "        }\n",
        "    },\n",
        "    labels=[\"production\"]\n",
        ");"
      ]
    },
    {
      "cell_type": "markdown",
      "metadata": {
        "id": "y9WfsIq35GCr"
      },
      "source": [
        "Prompt in Langfuse UI\n",
        "\n",
        "![Langfuse Prompt Management](https://langfuse.com/images/docs/prompt-management-with-config-for-openai-functions.png)"
      ]
    },
    {
      "cell_type": "markdown",
      "metadata": {
        "id": "q7uPMs9zksqB"
      },
      "source": [
        "## Example application\n",
        "\n",
        "### Get current prompt version from Langfuse"
      ]
    },
    {
      "cell_type": "code",
      "execution_count": 6,
      "metadata": {
        "id": "7qmbdIUkkq0o"
      },
      "outputs": [],
      "source": [
        "prompt = langfuse.get_prompt(\"story_summarization\")"
      ]
    },
    {
      "cell_type": "markdown",
      "metadata": {
        "id": "JKeAq_5Y5GCs"
      },
      "source": [
        "We can now use the prompt to compile our system message"
      ]
    },
    {
      "cell_type": "code",
      "execution_count": 7,
      "metadata": {
        "colab": {
          "base_uri": "https://localhost:8080/",
          "height": 36
        },
        "id": "bJOIAEn66dw2",
        "outputId": "67105feb-6960-49e1-b1d5-d47d5b1ab818"
      },
      "outputs": [
        {
          "output_type": "execute_result",
          "data": {
            "text/plain": [
              "'Extract the key information from this text and return it in JSON format. Use the following schema: TEST SCHEMA'"
            ],
            "application/vnd.google.colaboratory.intrinsic+json": {
              "type": "string"
            }
          },
          "metadata": {},
          "execution_count": 7
        }
      ],
      "source": [
        "prompt.compile(json_schema=\"TEST SCHEMA\")"
      ]
    },
    {
      "cell_type": "markdown",
      "metadata": {
        "id": "ulM5sSVj5GCt"
      },
      "source": [
        "And it includes the config object"
      ]
    },
    {
      "cell_type": "markdown",
      "metadata": {
        "id": "5zt4R57Z5GCt"
      },
      "source": [
        "```python\n",
        "prompt.config\n",
        "```\n",
        "\n",
        "```\n",
        "{'model': 'gpt-3.5-turbo-1106',\n",
        " 'json_schema': {'genre': 'string (genre of story)',\n",
        "  'keywords': 'array of strings',\n",
        "  'key_content': 'string (1 sentence)',\n",
        "  'critic_score': 'number (between 0 bad and 10 exceptional)',\n",
        "  'main_character': 'string (name of protagonist)',\n",
        "  'critic_review_comment': 'string (write similar to a new york times critic)'},\n",
        " 'temperature': 0}\n",
        " ```"
      ]
    },
    {
      "cell_type": "markdown",
      "metadata": {
        "id": "MEzzzavik9g8"
      },
      "source": [
        "### Create example function\n",
        "\n",
        "In this example we use the native [Langfuse OpenAI integration](https://langfuse.com/docs/integrations/openai) by importing from `langfuse.openai`. This enables [tracing](https://langfuse.com/docs/tracing) in Langfuse and is not required for using Langfuse prompts management."
      ]
    },
    {
      "cell_type": "code",
      "execution_count": 8,
      "metadata": {
        "id": "V-Kx92x2YT6t"
      },
      "outputs": [],
      "source": [
        "from langfuse.openai import OpenAI\n",
        "client = OpenAI()"
      ]
    },
    {
      "cell_type": "markdown",
      "metadata": {
        "id": "mYLVuDqM5GCu"
      },
      "source": [
        "Use Langfuse prompt to construct the `summarize_story` example function.\n",
        "\n",
        "**Note:** You can link the generation in Langfuse Tracing to the prompt version by passing the `langfuse_prompt` parameter to the `create` method. Have a look at our [prompt management docs](https://langfuse.com/docs/prompts/get-started#link-with-langfuse-tracing-optional) to learn how to link prompt and generation with other integrations and SDKs."
      ]
    },
    {
      "cell_type": "code",
      "execution_count": 9,
      "metadata": {
        "id": "w6nncPLUlWg0"
      },
      "outputs": [],
      "source": [
        "import json\n",
        "\n",
        "def summarize_story(story):\n",
        "  # Stringify the JSON schema\n",
        "  json_schema_str = ', '.join([f\"'{key}': {value}\" for key, value in prompt.config[\"json_schema\"].items()])\n",
        "\n",
        "  # Compile prompt with stringified version of json schema\n",
        "  system_message = prompt.compile(json_schema=json_schema_str)\n",
        "\n",
        "  # Format as OpenAI messages\n",
        "  messages = [\n",
        "      {\"role\":\"system\",\"content\": system_message},\n",
        "      {\"role\":\"user\",\"content\":story}\n",
        "  ]\n",
        "\n",
        "  # Get additional config\n",
        "  model = prompt.config[\"model\"]\n",
        "  temperature = prompt.config[\"temperature\"]\n",
        "\n",
        "  # Execute LLM call\n",
        "  res = client.chat.completions.create(\n",
        "    model = model,\n",
        "    temperature = temperature,\n",
        "    messages = messages,\n",
        "    response_format = { \"type\": \"json_object\" },\n",
        "    langfuse_prompt = prompt # capture used prompt version in trace\n",
        "  )\n",
        "\n",
        "  # Parse response as JSON\n",
        "  res = json.loads(res.choices[0].message.content)\n",
        "\n",
        "  return res"
      ]
    },
    {
      "cell_type": "markdown",
      "metadata": {
        "id": "um6kj0UkqFbW"
      },
      "source": [
        "### Execute it"
      ]
    },
    {
      "cell_type": "code",
      "execution_count": 10,
      "metadata": {
        "id": "OFXWywFeqEjR"
      },
      "outputs": [],
      "source": [
        "# Thanks ChatGPT for the story\n",
        "STORY = \"\"\"\n",
        "In a bustling city where the nighttime glittered with neon signs and the rush never calmed, lived a lonely cat named Whisper. Amidst the ceaseless clatter, Whisper discovered an abandoned hat one day. To her enigmatic surprise, this was no ordinary accessory; it had the unusual power to make her invisible to any onlooker.\n",
        "Whisper, now carrying a peculiar power, started a journey that was unexpected. She became a benevolent spirit to the less fortunate, the homeless people who equally shared the cold nights with her. Nights that were once barren turned miraculous as warm meals mysteriously appeared to those who needed them most. No one could see her, yet her actions spoke volumes, turning her into an unsung hero in the hidden corners of the city.\n",
        "As she carried on with her mysterious deed, she found an unanticipated reward. Joy started to kindle in her heart, born not from the invisibility, but from the result of her actions; the growing smiles on the faces of those she surreptitiously helped. Whisper might have remained unnoticed to the world, but amidst her secret kindness, she discovered her true happiness.\n",
        "\"\"\""
      ]
    },
    {
      "cell_type": "code",
      "execution_count": 11,
      "metadata": {
        "id": "JSwCc1pz5GCv"
      },
      "outputs": [],
      "source": [
        "summary = summarize_story(STORY)"
      ]
    },
    {
      "cell_type": "markdown",
      "metadata": {
        "id": "PITesJMs5GCv"
      },
      "source": [
        "```\n",
        "{'genre': 'Fantasy',\n",
        " 'keywords': ['lonely cat',\n",
        "  'invisible',\n",
        "  'benevolent spirit',\n",
        "  'unsung hero',\n",
        "  'mysterious deed',\n",
        "  'true happiness'],\n",
        " 'key_content': 'In a bustling city, a lonely cat named Whisper discovers an abandoned hat with the power to make her invisible, leading her to become a benevolent spirit and unsung hero to the less fortunate.',\n",
        " 'critic_score': 9,\n",
        " 'main_character': 'Whisper',\n",
        " 'critic_review_comment': \"Whisper's journey from loneliness to self-discovery through acts of kindness is a heartwarming and enchanting tale that captivates the reader with its magical elements and profound message about true happiness.\"}\n",
        " ```"
      ]
    },
    {
      "cell_type": "markdown",
      "metadata": {
        "id": "BtZAZ7005GCv"
      },
      "source": [
        "## View trace in Langfuse\n",
        "\n",
        "As we used the native Langfuse integration with the OpenAI SDK, we can view the trace in Langfuse.\n",
        "\n",
        "![Trace of OpenAI functions in Langfuse](https://langfuse.com/images/docs/openai-functions-trace-with-prompt-management.png)"
      ]
    },
    {
      "cell_type": "markdown",
      "metadata": {
        "id": "fQzUmJd25GCv"
      },
      "source": [
        "## Iterate on prompt in Langfuse\n",
        "\n",
        "We can now iterate on the prompt in Langfuse UI including model parameters and function calling options without changing the code or redeploying the application."
      ]
    }
  ],
  "metadata": {
    "colab": {
      "provenance": [],
      "include_colab_link": true
    },
    "kernelspec": {
      "display_name": "Python 3",
      "name": "python3"
    },
    "language_info": {
      "name": "python"
    }
  },
  "nbformat": 4,
  "nbformat_minor": 0
}